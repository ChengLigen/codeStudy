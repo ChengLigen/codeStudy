{
 "cells": [
  {
   "cell_type": "markdown",
   "metadata": {
    "button": false,
    "new_sheet": false,
    "run_control": {
     "read_only": false
    }
   },
   "source": [
    "\n",
    "\n",
    "<h1><center>Neural Network with Keras</center></h1>\n",
    "\n",
    "\n",
    "<h4>About this Notebook</h4>\n",
    "In this notebook, we learn how to use tensorflow library with Keras to implement a neural network model. We open a csv dataset that is related to fuel consumption and Carbon dioxide emission of cars and import that dataset to Python. Then, we split our data into training and test sets, create a model using training set, evaluate your model using test set, and finally use model to predict carbon dioxide emission tax. A carbon tax will be imposed if the carbon dioxide emission is higher than 300.\n"
   ]
  },
  {
   "cell_type": "markdown",
   "metadata": {},
   "source": [
    "<h1>Table of contents</h1>\n",
    "\n",
    "<div class=\"alert alert-block alert-info\" style=\"margin-top: 20px\">\n",
    "    <ol>\n",
    "        <li><a href=\"#understanding_data\">Understanding the Data</a></li>\n",
    "        <li><a href=\"#reading_data\">Reading the data in</a></li>\n",
    "        <li><a href=\"#data_exploration\">Data Exploration</a></li>\n",
    "        <li><a href=\"#neural_network\">Building the Neural Network</a></li>\n",
    "        <li><a href=\"#evaluation\">Evaluation</a></li>\n",
    "    </ol>\n",
    "</div>\n",
    "<br>\n",
    "<hr>"
   ]
  },
  {
   "cell_type": "markdown",
   "metadata": {
    "button": false,
    "new_sheet": false,
    "run_control": {
     "read_only": false
    }
   },
   "source": [
    "### Importing Needed packages"
   ]
  },
  {
   "cell_type": "code",
   "execution_count": 11,
   "metadata": {
    "button": false,
    "new_sheet": false,
    "run_control": {
     "read_only": false
    }
   },
   "outputs": [],
   "source": [
    "import matplotlib.pyplot as plt\n",
    "import pandas as pd\n",
    "import pylab as pl\n",
    "import numpy as np\n",
    "%matplotlib inline"
   ]
  },
  {
   "cell_type": "code",
   "execution_count": 12,
   "metadata": {},
   "outputs": [
    {
     "name": "stdout",
     "output_type": "stream",
     "text": [
      "scipy: 1.10.1\n",
      "numpy: 1.24.2\n",
      "matplotlib: 3.7.1\n",
      "pandas: 1.5.3\n",
      "statsmodels: 0.13.5\n",
      "sklearn: 1.2.2\n"
     ]
    }
   ],
   "source": [
    "# scipy\n",
    "import scipy\n",
    "print('scipy: %s' % scipy.__version__)\n",
    "# numpy\n",
    "import numpy\n",
    "print('numpy: %s' % numpy.__version__)\n",
    "# matplotlib\n",
    "import matplotlib\n",
    "print('matplotlib: %s' % matplotlib.__version__)\n",
    "# pandas\n",
    "import pandas\n",
    "print('pandas: %s' % pandas.__version__)\n",
    "# statsmodels\n",
    "import statsmodels\n",
    "print('statsmodels: %s' % statsmodels.__version__)\n",
    "# scikit-learn\n",
    "import sklearn\n",
    "print('sklearn: %s' % sklearn.__version__)"
   ]
  },
  {
   "cell_type": "code",
   "execution_count": 13,
   "metadata": {},
   "outputs": [],
   "source": [
    "# !pip install tensorflow"
   ]
  },
  {
   "cell_type": "code",
   "execution_count": 14,
   "metadata": {},
   "outputs": [],
   "source": [
    "# !pip install Keras"
   ]
  },
  {
   "cell_type": "code",
   "execution_count": 15,
   "metadata": {},
   "outputs": [],
   "source": [
    "# tensorflow\n",
    "\n",
    "# import tensorflow\n",
    "# print('tensorflow: %s' % tensorflow.__version__)"
   ]
  },
  {
   "cell_type": "code",
   "execution_count": 16,
   "metadata": {},
   "outputs": [],
   "source": [
    "# keras\n",
    "# import keras\n",
    "# print('keras: %s' % keras.__version__)"
   ]
  },
  {
   "cell_type": "code",
   "execution_count": 17,
   "metadata": {},
   "outputs": [],
   "source": [
    "# from tensorflow import keras\n",
    "# from keras.layers import Dense\n",
    "# from keras.models import Sequential\n"
   ]
  },
  {
   "cell_type": "code",
   "execution_count": 18,
   "outputs": [],
   "source": [
    "from tensorflow.python.keras.layers import Dense\n",
    "from tensorflow.python.keras.models import Sequential"
   ],
   "metadata": {
    "collapsed": false
   }
  },
  {
   "cell_type": "markdown",
   "metadata": {
    "button": false,
    "new_sheet": false,
    "run_control": {
     "read_only": false
    }
   },
   "source": [
    "\n",
    "<h2 id=\"understanding_data\">Understanding the Data</h2>\n",
    "\n",
    "### `FuelConsumption.csv`:\n",
    "We have loaded a fuel consumption dataset, **`FuelConsumption.csv`**, which contains model-specific fuel consumption ratings and estimated carbon dioxide emissions for new light-duty vehicles for retail sale in Canada. [Dataset source](http://open.canada.ca/data/en/dataset/98f1a129-f628-4ce4-b24d-6f16bf24dd64)\n",
    "\n",
    "- **MODELYEAR** e.g. 2014\n",
    "- **MAKE** e.g. Acura\n",
    "- **MODEL** e.g. ILX\n",
    "- **VEHICLE CLASS** e.g. SUV\n",
    "- **ENGINE SIZE** e.g. 4.7\n",
    "- **CYLINDERS** e.g 6\n",
    "- **TRANSMISSION** e.g. A6\n",
    "- **FUEL CONSUMPTION in CITY(L/100 km)** e.g. 9.9\n",
    "- **FUEL CONSUMPTION in HWY (L/100 km)** e.g. 8.9\n",
    "- **FUEL CONSUMPTION COMB (L/100 km)** e.g. 9.2\n",
    "- **CO2 EMISSIONS (g/km)** e.g. 182   --> low --> 0\n"
   ]
  },
  {
   "cell_type": "code",
   "execution_count": 18,
   "metadata": {},
   "outputs": [],
   "source": []
  },
  {
   "cell_type": "markdown",
   "metadata": {
    "button": false,
    "new_sheet": false,
    "run_control": {
     "read_only": false
    }
   },
   "source": [
    "<h2 id=\"reading_data\">Reading the data in</h2>"
   ]
  },
  {
   "cell_type": "code",
   "execution_count": 19,
   "metadata": {
    "button": false,
    "new_sheet": false,
    "run_control": {
     "read_only": false
    }
   },
   "outputs": [
    {
     "data": {
      "text/plain": "   MODELYEAR   MAKE       MODEL VEHICLECLASS  ENGINESIZE  CYLINDERS  \\\n0       2014  ACURA         ILX      COMPACT         2.0          4   \n1       2014  ACURA         ILX      COMPACT         2.4          4   \n2       2014  ACURA  ILX HYBRID      COMPACT         1.5          4   \n3       2014  ACURA     MDX 4WD  SUV - SMALL         3.5          6   \n4       2014  ACURA     RDX AWD  SUV - SMALL         3.5          6   \n\n  TRANSMISSION FUELTYPE  FUELCONSUMPTION_CITY  FUELCONSUMPTION_HWY  \\\n0          AS5        Z                   9.9                  6.7   \n1           M6        Z                  11.2                  7.7   \n2          AV7        Z                   6.0                  5.8   \n3          AS6        Z                  12.7                  9.1   \n4          AS6        Z                  12.1                  8.7   \n\n   FUELCONSUMPTION_COMB  FUELCONSUMPTION_COMB_MPG  CO2EMISSIONS  \n0                   8.5                        33           196  \n1                   9.6                        29           221  \n2                   5.9                        48           136  \n3                  11.1                        25           255  \n4                  10.6                        27           244  ",
      "text/html": "<div>\n<style scoped>\n    .dataframe tbody tr th:only-of-type {\n        vertical-align: middle;\n    }\n\n    .dataframe tbody tr th {\n        vertical-align: top;\n    }\n\n    .dataframe thead th {\n        text-align: right;\n    }\n</style>\n<table border=\"1\" class=\"dataframe\">\n  <thead>\n    <tr style=\"text-align: right;\">\n      <th></th>\n      <th>MODELYEAR</th>\n      <th>MAKE</th>\n      <th>MODEL</th>\n      <th>VEHICLECLASS</th>\n      <th>ENGINESIZE</th>\n      <th>CYLINDERS</th>\n      <th>TRANSMISSION</th>\n      <th>FUELTYPE</th>\n      <th>FUELCONSUMPTION_CITY</th>\n      <th>FUELCONSUMPTION_HWY</th>\n      <th>FUELCONSUMPTION_COMB</th>\n      <th>FUELCONSUMPTION_COMB_MPG</th>\n      <th>CO2EMISSIONS</th>\n    </tr>\n  </thead>\n  <tbody>\n    <tr>\n      <th>0</th>\n      <td>2014</td>\n      <td>ACURA</td>\n      <td>ILX</td>\n      <td>COMPACT</td>\n      <td>2.0</td>\n      <td>4</td>\n      <td>AS5</td>\n      <td>Z</td>\n      <td>9.9</td>\n      <td>6.7</td>\n      <td>8.5</td>\n      <td>33</td>\n      <td>196</td>\n    </tr>\n    <tr>\n      <th>1</th>\n      <td>2014</td>\n      <td>ACURA</td>\n      <td>ILX</td>\n      <td>COMPACT</td>\n      <td>2.4</td>\n      <td>4</td>\n      <td>M6</td>\n      <td>Z</td>\n      <td>11.2</td>\n      <td>7.7</td>\n      <td>9.6</td>\n      <td>29</td>\n      <td>221</td>\n    </tr>\n    <tr>\n      <th>2</th>\n      <td>2014</td>\n      <td>ACURA</td>\n      <td>ILX HYBRID</td>\n      <td>COMPACT</td>\n      <td>1.5</td>\n      <td>4</td>\n      <td>AV7</td>\n      <td>Z</td>\n      <td>6.0</td>\n      <td>5.8</td>\n      <td>5.9</td>\n      <td>48</td>\n      <td>136</td>\n    </tr>\n    <tr>\n      <th>3</th>\n      <td>2014</td>\n      <td>ACURA</td>\n      <td>MDX 4WD</td>\n      <td>SUV - SMALL</td>\n      <td>3.5</td>\n      <td>6</td>\n      <td>AS6</td>\n      <td>Z</td>\n      <td>12.7</td>\n      <td>9.1</td>\n      <td>11.1</td>\n      <td>25</td>\n      <td>255</td>\n    </tr>\n    <tr>\n      <th>4</th>\n      <td>2014</td>\n      <td>ACURA</td>\n      <td>RDX AWD</td>\n      <td>SUV - SMALL</td>\n      <td>3.5</td>\n      <td>6</td>\n      <td>AS6</td>\n      <td>Z</td>\n      <td>12.1</td>\n      <td>8.7</td>\n      <td>10.6</td>\n      <td>27</td>\n      <td>244</td>\n    </tr>\n  </tbody>\n</table>\n</div>"
     },
     "execution_count": 19,
     "metadata": {},
     "output_type": "execute_result"
    }
   ],
   "source": [
    "df = pd.read_csv('FuelConsumption.csv')\n",
    "# take a look at the dataset\n",
    "df.head()"
   ]
  },
  {
   "cell_type": "markdown",
   "metadata": {
    "button": false,
    "new_sheet": false,
    "run_control": {
     "read_only": false
    }
   },
   "source": [
    "<h2 id=\"data_exploration\">Data Exploration</h2>\n",
    "Lets first have a descriptive exploration on our data."
   ]
  },
  {
   "cell_type": "code",
   "execution_count": 20,
   "metadata": {
    "button": false,
    "new_sheet": false,
    "run_control": {
     "read_only": false
    },
    "scrolled": true
   },
   "outputs": [
    {
     "data": {
      "text/plain": "       MODELYEAR   ENGINESIZE    CYLINDERS  FUELCONSUMPTION_CITY  \\\ncount     1067.0  1067.000000  1067.000000           1067.000000   \nmean      2014.0     3.346298     5.794752             13.296532   \nstd          0.0     1.415895     1.797447              4.101253   \nmin       2014.0     1.000000     3.000000              4.600000   \n25%       2014.0     2.000000     4.000000             10.250000   \n50%       2014.0     3.400000     6.000000             12.600000   \n75%       2014.0     4.300000     8.000000             15.550000   \nmax       2014.0     8.400000    12.000000             30.200000   \n\n       FUELCONSUMPTION_HWY  FUELCONSUMPTION_COMB  FUELCONSUMPTION_COMB_MPG  \\\ncount          1067.000000           1067.000000               1067.000000   \nmean              9.474602             11.580881                 26.441425   \nstd               2.794510              3.485595                  7.468702   \nmin               4.900000              4.700000                 11.000000   \n25%               7.500000              9.000000                 21.000000   \n50%               8.800000             10.900000                 26.000000   \n75%              10.850000             13.350000                 31.000000   \nmax              20.500000             25.800000                 60.000000   \n\n       CO2EMISSIONS  \ncount   1067.000000  \nmean     256.228679  \nstd       63.372304  \nmin      108.000000  \n25%      207.000000  \n50%      251.000000  \n75%      294.000000  \nmax      488.000000  ",
      "text/html": "<div>\n<style scoped>\n    .dataframe tbody tr th:only-of-type {\n        vertical-align: middle;\n    }\n\n    .dataframe tbody tr th {\n        vertical-align: top;\n    }\n\n    .dataframe thead th {\n        text-align: right;\n    }\n</style>\n<table border=\"1\" class=\"dataframe\">\n  <thead>\n    <tr style=\"text-align: right;\">\n      <th></th>\n      <th>MODELYEAR</th>\n      <th>ENGINESIZE</th>\n      <th>CYLINDERS</th>\n      <th>FUELCONSUMPTION_CITY</th>\n      <th>FUELCONSUMPTION_HWY</th>\n      <th>FUELCONSUMPTION_COMB</th>\n      <th>FUELCONSUMPTION_COMB_MPG</th>\n      <th>CO2EMISSIONS</th>\n    </tr>\n  </thead>\n  <tbody>\n    <tr>\n      <th>count</th>\n      <td>1067.0</td>\n      <td>1067.000000</td>\n      <td>1067.000000</td>\n      <td>1067.000000</td>\n      <td>1067.000000</td>\n      <td>1067.000000</td>\n      <td>1067.000000</td>\n      <td>1067.000000</td>\n    </tr>\n    <tr>\n      <th>mean</th>\n      <td>2014.0</td>\n      <td>3.346298</td>\n      <td>5.794752</td>\n      <td>13.296532</td>\n      <td>9.474602</td>\n      <td>11.580881</td>\n      <td>26.441425</td>\n      <td>256.228679</td>\n    </tr>\n    <tr>\n      <th>std</th>\n      <td>0.0</td>\n      <td>1.415895</td>\n      <td>1.797447</td>\n      <td>4.101253</td>\n      <td>2.794510</td>\n      <td>3.485595</td>\n      <td>7.468702</td>\n      <td>63.372304</td>\n    </tr>\n    <tr>\n      <th>min</th>\n      <td>2014.0</td>\n      <td>1.000000</td>\n      <td>3.000000</td>\n      <td>4.600000</td>\n      <td>4.900000</td>\n      <td>4.700000</td>\n      <td>11.000000</td>\n      <td>108.000000</td>\n    </tr>\n    <tr>\n      <th>25%</th>\n      <td>2014.0</td>\n      <td>2.000000</td>\n      <td>4.000000</td>\n      <td>10.250000</td>\n      <td>7.500000</td>\n      <td>9.000000</td>\n      <td>21.000000</td>\n      <td>207.000000</td>\n    </tr>\n    <tr>\n      <th>50%</th>\n      <td>2014.0</td>\n      <td>3.400000</td>\n      <td>6.000000</td>\n      <td>12.600000</td>\n      <td>8.800000</td>\n      <td>10.900000</td>\n      <td>26.000000</td>\n      <td>251.000000</td>\n    </tr>\n    <tr>\n      <th>75%</th>\n      <td>2014.0</td>\n      <td>4.300000</td>\n      <td>8.000000</td>\n      <td>15.550000</td>\n      <td>10.850000</td>\n      <td>13.350000</td>\n      <td>31.000000</td>\n      <td>294.000000</td>\n    </tr>\n    <tr>\n      <th>max</th>\n      <td>2014.0</td>\n      <td>8.400000</td>\n      <td>12.000000</td>\n      <td>30.200000</td>\n      <td>20.500000</td>\n      <td>25.800000</td>\n      <td>60.000000</td>\n      <td>488.000000</td>\n    </tr>\n  </tbody>\n</table>\n</div>"
     },
     "execution_count": 20,
     "metadata": {},
     "output_type": "execute_result"
    }
   ],
   "source": [
    "# summarize the data\n",
    "df.describe()"
   ]
  },
  {
   "cell_type": "markdown",
   "metadata": {},
   "source": [
    "Lets select some features to explore more."
   ]
  },
  {
   "cell_type": "code",
   "execution_count": 21,
   "metadata": {
    "button": false,
    "new_sheet": false,
    "run_control": {
     "read_only": false
    },
    "scrolled": true
   },
   "outputs": [
    {
     "data": {
      "text/plain": "   ENGINESIZE  CYLINDERS  CO2EMISSIONS\n0         2.0          4           196\n1         2.4          4           221\n2         1.5          4           136\n3         3.5          6           255\n4         3.5          6           244\n5         3.5          6           230\n6         3.5          6           232\n7         3.7          6           255\n8         3.7          6           267",
      "text/html": "<div>\n<style scoped>\n    .dataframe tbody tr th:only-of-type {\n        vertical-align: middle;\n    }\n\n    .dataframe tbody tr th {\n        vertical-align: top;\n    }\n\n    .dataframe thead th {\n        text-align: right;\n    }\n</style>\n<table border=\"1\" class=\"dataframe\">\n  <thead>\n    <tr style=\"text-align: right;\">\n      <th></th>\n      <th>ENGINESIZE</th>\n      <th>CYLINDERS</th>\n      <th>CO2EMISSIONS</th>\n    </tr>\n  </thead>\n  <tbody>\n    <tr>\n      <th>0</th>\n      <td>2.0</td>\n      <td>4</td>\n      <td>196</td>\n    </tr>\n    <tr>\n      <th>1</th>\n      <td>2.4</td>\n      <td>4</td>\n      <td>221</td>\n    </tr>\n    <tr>\n      <th>2</th>\n      <td>1.5</td>\n      <td>4</td>\n      <td>136</td>\n    </tr>\n    <tr>\n      <th>3</th>\n      <td>3.5</td>\n      <td>6</td>\n      <td>255</td>\n    </tr>\n    <tr>\n      <th>4</th>\n      <td>3.5</td>\n      <td>6</td>\n      <td>244</td>\n    </tr>\n    <tr>\n      <th>5</th>\n      <td>3.5</td>\n      <td>6</td>\n      <td>230</td>\n    </tr>\n    <tr>\n      <th>6</th>\n      <td>3.5</td>\n      <td>6</td>\n      <td>232</td>\n    </tr>\n    <tr>\n      <th>7</th>\n      <td>3.7</td>\n      <td>6</td>\n      <td>255</td>\n    </tr>\n    <tr>\n      <th>8</th>\n      <td>3.7</td>\n      <td>6</td>\n      <td>267</td>\n    </tr>\n  </tbody>\n</table>\n</div>"
     },
     "execution_count": 21,
     "metadata": {},
     "output_type": "execute_result"
    }
   ],
   "source": [
    "cdf = df[['ENGINESIZE','CYLINDERS','CO2EMISSIONS']]\n",
    "cdf.head(9)"
   ]
  },
  {
   "cell_type": "markdown",
   "metadata": {},
   "source": [
    "The customer is required to pay Carbox Tax if Carbondioxide Emission is higher than 300. Now let's define an indicator for Carbon Tax:"
   ]
  },
  {
   "cell_type": "code",
   "execution_count": 22,
   "metadata": {},
   "outputs": [
    {
     "data": {
      "text/plain": "0    False\n1    False\n2    False\n3    False\n4    False\n5    False\n6    False\n7    False\n8    False\nName: CO2EMISSIONS, dtype: bool"
     },
     "execution_count": 22,
     "metadata": {},
     "output_type": "execute_result"
    }
   ],
   "source": [
    "ct=df.CO2EMISSIONS>300\n",
    "ct.head(9)\n"
   ]
  },
  {
   "cell_type": "markdown",
   "metadata": {},
   "source": [
    "<h2 id=\"neural_network\">Building the Neural Network</h2>\n"
   ]
  },
  {
   "cell_type": "markdown",
   "metadata": {
    "button": false,
    "new_sheet": false,
    "run_control": {
     "read_only": false
    }
   },
   "source": [
    "#### Creating train and test dataset\n",
    "Train/Test Split involves splitting the dataset into training and testing sets respectively, which are mutually exclusive. After which, you train with the training set and test with the testing set. \n",
    "This will provide a more accurate evaluation on out-of-sample accuracy because the testing dataset is not part of the dataset that have been used to train the data. It is more realistic for real world problems.\n",
    "\n",
    "This means that we know the outcome of each data point in this dataset, making it great to test with! And since this data has not been used to train the model, the model has no knowledge of the outcome of these data points. So, in essence, it is truly an out-of-sample testing.\n",
    "\n",
    "Lets split our dataset into train and test sets, 80% of the entire data for training, and the 20% for testing. We create a mask to select random rows using __np.random.rand()__ function: "
   ]
  },
  {
   "cell_type": "code",
   "execution_count": 23,
   "metadata": {
    "button": false,
    "new_sheet": false,
    "run_control": {
     "read_only": false
    }
   },
   "outputs": [],
   "source": [
    "msk = np.random.rand(len(df)) < 0.8\n",
    "train = cdf[msk]\n",
    "test = cdf[~msk]"
   ]
  },
  {
   "cell_type": "markdown",
   "metadata": {},
   "source": [
    "#### Create the Carbon Tax indicator for train and test data"
   ]
  },
  {
   "cell_type": "code",
   "execution_count": 24,
   "metadata": {},
   "outputs": [],
   "source": [
    "# define the Carbon Tax for the training set\n",
    "ct_train=train.CO2EMISSIONS>300\n",
    "X_train=np.asanyarray(train[['ENGINESIZE','CYLINDERS']])\n",
    "\n",
    "# define the Carbon Tax for the testing set\n",
    "ct_test=test.CO2EMISSIONS>300\n",
    "X_test=np.asanyarray(test[['ENGINESIZE','CYLINDERS']])"
   ]
  },
  {
   "cell_type": "markdown",
   "metadata": {
    "button": false,
    "new_sheet": false,
    "run_control": {
     "read_only": false
    }
   },
   "source": [
    "<h2 id=\"Building the Neural Network\">Neural Network with Keras</h2>\n"
   ]
  },
  {
   "cell_type": "markdown",
   "metadata": {
    "button": false,
    "new_sheet": false,
    "run_control": {
     "read_only": false
    }
   },
   "source": [
    "#### Define Keras Model\n",
    "\n",
    "Models in Keras are defined as a sequence of layers.\n",
    "\n",
    "We create a Sequential model and add layers one at a time until we are happy with our network architecture.\n",
    "\n",
    "The first thing to get right is to ensure the input layer has the right number of input features. This can be specified when creating the first layer with the imput_dim argument and setting it to 2 for the 2 input variables.\n",
    "\n",
    "In this example, we will use a fully-connected network structure with four layers.\n",
    "\n",
    "Fully connected layers are defined using the Dense class. We can specify the number of neurons or nodes in the layer as the first argument, and specify the activation function using the activation argument.\n",
    "\n",
    "We will use the rectified linear unit activation function referred to as ReLU on the first several layers and the Sigmoid function in the output layer.\n",
    "\n",
    "It used to be the case that Sigmoid and Tanh activation functions were preferred for all layers. These days, better performance is achieved using the ReLU activation function. We use a sigmoid on the output layer to ensure our network output is between 0 and 1 and easy to map to either a probability of class 1 or snap to a hard classification of either class with a default threshold of 0.5.\n",
    "\n",
    "We can piece it all together by adding each layer:\n",
    "\n",
    "The model expects rows of data with 2 variables (the input_dim=2 argument).\n",
    "The first hidden layer has 2 nodes and uses the relu activation function.\n",
    "The output layer has one node and uses the sigmoid activation function.\n"
   ]
  },
  {
   "cell_type": "code",
   "execution_count": 25,
   "metadata": {
    "button": false,
    "new_sheet": false,
    "run_control": {
     "read_only": false
    }
   },
   "outputs": [
    {
     "name": "stdout",
     "output_type": "stream",
     "text": [
      "Model: \"sequential\"\n",
      "_________________________________________________________________\n",
      "Layer (type)                 Output Shape              Param #   \n",
      "=================================================================\n",
      "dense (Dense)                (None, 2)                 6         \n",
      "_________________________________________________________________\n",
      "dense_1 (Dense)              (None, 2)                 6         \n",
      "_________________________________________________________________\n",
      "dense_2 (Dense)              (None, 1)                 3         \n",
      "=================================================================\n",
      "Total params: 15\n",
      "Trainable params: 15\n",
      "Non-trainable params: 0\n",
      "_________________________________________________________________\n"
     ]
    }
   ],
   "source": [
    "# define the keras model\n",
    "model = Sequential()\n",
    "model.add(Dense(2, input_dim=2, activation='relu'))\n",
    "model.add(Dense(2, activation='relu'))\n",
    "model.add(Dense(1, activation='sigmoid'))\n",
    "\n",
    "model.summary()\n"
   ]
  },
  {
   "cell_type": "markdown",
   "metadata": {
    "button": false,
    "new_sheet": false,
    "run_control": {
     "read_only": false
    }
   },
   "source": [
    "#### Compile Keras Model\n",
    "\n",
    "When compiling, we must specify some additional properties required when training the network. Remember training a network means finding the best set of weights to map inputs to outputs in our dataset.\n",
    "\n",
    "We must specify the loss function to use to evaluate a set of weights, the optimizer is used to search through different weights for the network and any optional metrics we would like to collect and report during training.\n",
    "\n",
    "In this case, we will use cross entropy as the loss argument. This loss is for a binary classification problems and is defined in Keras as “binary_crossentropy“. \n",
    "\n",
    "We will define the optimizer as the efficient stochastic gradient descent algorithm “adam“. This is a popular version of gradient descent because it automatically tunes itself and gives good results in a wide range of problems. \n",
    "\n",
    "Finally, because it is a classification problem, we will collect and report the classification accuracy, defined via the metrics argument.\n"
   ]
  },
  {
   "cell_type": "code",
   "execution_count": 26,
   "metadata": {
    "button": false,
    "new_sheet": false,
    "run_control": {
     "read_only": false
    }
   },
   "outputs": [],
   "source": [
    "# compile the keras model\n",
    "model.compile(loss='binary_crossentropy', optimizer='adam', metrics=['accuracy'])"
   ]
  },
  {
   "cell_type": "markdown",
   "metadata": {},
   "source": [
    "#### Fit Keras Model:\n",
    "\n",
    "The training process will run for a fixed number of iterations through the dataset called epochs, that we must specify using the epochs argument. We must also set the number of dataset rows that are considered before the model weights are updated within each epoch, called the batch size and set using the batch_size argument.\n",
    "\n",
    "For this problem, we will run for a small number of epochs (150) and use a relatively small batch size of 10.\n",
    "\n",
    "These configurations can be chosen experimentally by trial and error. We want to train the model enough so that it learns a good (or good enough) mapping of rows of input data to the output classification. The model will always have some error, but the amount of error will level out after some point for a given model configuration. This is called model convergence."
   ]
  },
  {
   "cell_type": "code",
   "execution_count": 27,
   "metadata": {
    "button": false,
    "new_sheet": false,
    "run_control": {
     "read_only": false
    }
   },
   "outputs": [
    {
     "name": "stdout",
     "output_type": "stream",
     "text": [
      "Train on 854 samples\n",
      "Epoch 1/150\n",
      "854/854 [==============================] - 0s 123us/sample - loss: 0.6826 - accuracy: 0.7822\n",
      "Epoch 2/150\n",
      "854/854 [==============================] - 0s 51us/sample - loss: 0.6624 - accuracy: 0.7822\n",
      "Epoch 3/150\n",
      "854/854 [==============================] - 0s 49us/sample - loss: 0.6444 - accuracy: 0.7822\n",
      "Epoch 4/150\n",
      "854/854 [==============================] - 0s 48us/sample - loss: 0.6287 - accuracy: 0.7822\n",
      "Epoch 5/150\n",
      "854/854 [==============================] - 0s 50us/sample - loss: 0.6149 - accuracy: 0.7822\n",
      "Epoch 6/150\n",
      "854/854 [==============================] - 0s 46us/sample - loss: 0.6026 - accuracy: 0.7822\n",
      "Epoch 7/150\n",
      "854/854 [==============================] - 0s 48us/sample - loss: 0.5918 - accuracy: 0.7822\n",
      "Epoch 8/150\n",
      "854/854 [==============================] - 0s 47us/sample - loss: 0.5824 - accuracy: 0.7822\n",
      "Epoch 9/150\n",
      "854/854 [==============================] - 0s 46us/sample - loss: 0.5742 - accuracy: 0.7822\n",
      "Epoch 10/150\n",
      "854/854 [==============================] - 0s 50us/sample - loss: 0.5673 - accuracy: 0.7822\n",
      "Epoch 11/150\n",
      "854/854 [==============================] - 0s 50us/sample - loss: 0.5611 - accuracy: 0.7822\n",
      "Epoch 12/150\n",
      "854/854 [==============================] - 0s 48us/sample - loss: 0.5557 - accuracy: 0.7822\n",
      "Epoch 13/150\n",
      "854/854 [==============================] - 0s 49us/sample - loss: 0.5510 - accuracy: 0.7822\n",
      "Epoch 14/150\n",
      "854/854 [==============================] - 0s 47us/sample - loss: 0.5471 - accuracy: 0.7822\n",
      "Epoch 15/150\n",
      "854/854 [==============================] - 0s 48us/sample - loss: 0.5436 - accuracy: 0.7822\n",
      "Epoch 16/150\n",
      "854/854 [==============================] - 0s 47us/sample - loss: 0.5406 - accuracy: 0.7822\n",
      "Epoch 17/150\n",
      "854/854 [==============================] - 0s 48us/sample - loss: 0.5380 - accuracy: 0.7822\n",
      "Epoch 18/150\n",
      "854/854 [==============================] - 0s 49us/sample - loss: 0.5358 - accuracy: 0.7822\n",
      "Epoch 19/150\n",
      "854/854 [==============================] - 0s 52us/sample - loss: 0.5339 - accuracy: 0.7822\n",
      "Epoch 20/150\n",
      "854/854 [==============================] - 0s 49us/sample - loss: 0.5324 - accuracy: 0.7822\n",
      "Epoch 21/150\n",
      "854/854 [==============================] - 0s 49us/sample - loss: 0.5310 - accuracy: 0.7822\n",
      "Epoch 22/150\n",
      "854/854 [==============================] - 0s 49us/sample - loss: 0.5299 - accuracy: 0.7822\n",
      "Epoch 23/150\n",
      "854/854 [==============================] - 0s 48us/sample - loss: 0.5289 - accuracy: 0.7822\n",
      "Epoch 24/150\n",
      "854/854 [==============================] - 0s 47us/sample - loss: 0.5281 - accuracy: 0.7822\n",
      "Epoch 25/150\n",
      "854/854 [==============================] - 0s 49us/sample - loss: 0.5275 - accuracy: 0.7822\n",
      "Epoch 26/150\n",
      "854/854 [==============================] - 0s 47us/sample - loss: 0.5269 - accuracy: 0.7822\n",
      "Epoch 27/150\n",
      "854/854 [==============================] - 0s 47us/sample - loss: 0.5264 - accuracy: 0.7822\n",
      "Epoch 28/150\n",
      "854/854 [==============================] - 0s 47us/sample - loss: 0.5259 - accuracy: 0.7822\n",
      "Epoch 29/150\n",
      "854/854 [==============================] - 0s 49us/sample - loss: 0.5256 - accuracy: 0.7822\n",
      "Epoch 30/150\n",
      "854/854 [==============================] - 0s 48us/sample - loss: 0.5254 - accuracy: 0.7822\n",
      "Epoch 31/150\n",
      "854/854 [==============================] - 0s 49us/sample - loss: 0.5252 - accuracy: 0.7822\n",
      "Epoch 32/150\n",
      "854/854 [==============================] - 0s 49us/sample - loss: 0.5250 - accuracy: 0.7822\n",
      "Epoch 33/150\n",
      "854/854 [==============================] - 0s 50us/sample - loss: 0.5248 - accuracy: 0.7822\n",
      "Epoch 34/150\n",
      "854/854 [==============================] - 0s 48us/sample - loss: 0.5247 - accuracy: 0.7822\n",
      "Epoch 35/150\n",
      "854/854 [==============================] - 0s 50us/sample - loss: 0.5246 - accuracy: 0.7822\n",
      "Epoch 36/150\n",
      "854/854 [==============================] - 0s 48us/sample - loss: 0.5245 - accuracy: 0.7822\n",
      "Epoch 37/150\n",
      "854/854 [==============================] - 0s 49us/sample - loss: 0.5244 - accuracy: 0.7822\n",
      "Epoch 38/150\n",
      "854/854 [==============================] - 0s 48us/sample - loss: 0.5244 - accuracy: 0.7822\n",
      "Epoch 39/150\n",
      "854/854 [==============================] - 0s 49us/sample - loss: 0.5243 - accuracy: 0.7822\n",
      "Epoch 40/150\n",
      "854/854 [==============================] - 0s 49us/sample - loss: 0.5243 - accuracy: 0.7822\n",
      "Epoch 41/150\n",
      "854/854 [==============================] - 0s 49us/sample - loss: 0.5243 - accuracy: 0.7822\n",
      "Epoch 42/150\n",
      "854/854 [==============================] - 0s 48us/sample - loss: 0.5243 - accuracy: 0.7822\n",
      "Epoch 43/150\n",
      "854/854 [==============================] - 0s 49us/sample - loss: 0.5242 - accuracy: 0.7822\n",
      "Epoch 44/150\n",
      "854/854 [==============================] - 0s 47us/sample - loss: 0.5242 - accuracy: 0.7822\n",
      "Epoch 45/150\n",
      "854/854 [==============================] - 0s 48us/sample - loss: 0.5242 - accuracy: 0.7822\n",
      "Epoch 46/150\n",
      "854/854 [==============================] - 0s 47us/sample - loss: 0.5242 - accuracy: 0.7822\n",
      "Epoch 47/150\n",
      "854/854 [==============================] - 0s 50us/sample - loss: 0.5242 - accuracy: 0.7822\n",
      "Epoch 48/150\n",
      "854/854 [==============================] - 0s 48us/sample - loss: 0.5242 - accuracy: 0.7822\n",
      "Epoch 49/150\n",
      "854/854 [==============================] - 0s 47us/sample - loss: 0.5242 - accuracy: 0.7822\n",
      "Epoch 50/150\n",
      "854/854 [==============================] - 0s 47us/sample - loss: 0.5242 - accuracy: 0.7822\n",
      "Epoch 51/150\n",
      "854/854 [==============================] - 0s 48us/sample - loss: 0.5242 - accuracy: 0.7822\n",
      "Epoch 52/150\n",
      "854/854 [==============================] - 0s 49us/sample - loss: 0.5242 - accuracy: 0.7822\n",
      "Epoch 53/150\n",
      "854/854 [==============================] - 0s 48us/sample - loss: 0.5242 - accuracy: 0.7822\n",
      "Epoch 54/150\n",
      "854/854 [==============================] - 0s 47us/sample - loss: 0.5242 - accuracy: 0.7822\n",
      "Epoch 55/150\n",
      "854/854 [==============================] - 0s 47us/sample - loss: 0.5241 - accuracy: 0.7822\n",
      "Epoch 56/150\n",
      "854/854 [==============================] - 0s 47us/sample - loss: 0.5242 - accuracy: 0.7822\n",
      "Epoch 57/150\n",
      "854/854 [==============================] - 0s 47us/sample - loss: 0.5242 - accuracy: 0.7822\n",
      "Epoch 58/150\n",
      "854/854 [==============================] - 0s 54us/sample - loss: 0.5241 - accuracy: 0.7822\n",
      "Epoch 59/150\n",
      "854/854 [==============================] - 0s 49us/sample - loss: 0.5241 - accuracy: 0.7822\n",
      "Epoch 60/150\n",
      "854/854 [==============================] - 0s 48us/sample - loss: 0.5242 - accuracy: 0.7822\n",
      "Epoch 61/150\n",
      "854/854 [==============================] - 0s 49us/sample - loss: 0.5242 - accuracy: 0.7822\n",
      "Epoch 62/150\n",
      "854/854 [==============================] - 0s 48us/sample - loss: 0.5242 - accuracy: 0.7822\n",
      "Epoch 63/150\n",
      "854/854 [==============================] - 0s 46us/sample - loss: 0.5241 - accuracy: 0.7822\n",
      "Epoch 64/150\n",
      "854/854 [==============================] - 0s 47us/sample - loss: 0.5242 - accuracy: 0.7822\n",
      "Epoch 65/150\n",
      "854/854 [==============================] - 0s 48us/sample - loss: 0.5242 - accuracy: 0.7822\n",
      "Epoch 66/150\n",
      "854/854 [==============================] - 0s 48us/sample - loss: 0.5242 - accuracy: 0.7822\n",
      "Epoch 67/150\n",
      "854/854 [==============================] - 0s 48us/sample - loss: 0.5241 - accuracy: 0.7822\n",
      "Epoch 68/150\n",
      "854/854 [==============================] - 0s 46us/sample - loss: 0.5241 - accuracy: 0.7822\n",
      "Epoch 69/150\n",
      "854/854 [==============================] - 0s 48us/sample - loss: 0.5242 - accuracy: 0.7822\n",
      "Epoch 70/150\n",
      "854/854 [==============================] - 0s 48us/sample - loss: 0.5242 - accuracy: 0.7822\n",
      "Epoch 71/150\n",
      "854/854 [==============================] - 0s 49us/sample - loss: 0.5241 - accuracy: 0.7822\n",
      "Epoch 72/150\n",
      "854/854 [==============================] - 0s 47us/sample - loss: 0.5242 - accuracy: 0.7822\n",
      "Epoch 73/150\n",
      "854/854 [==============================] - 0s 50us/sample - loss: 0.5242 - accuracy: 0.7822\n",
      "Epoch 74/150\n",
      "854/854 [==============================] - 0s 50us/sample - loss: 0.5242 - accuracy: 0.7822\n",
      "Epoch 75/150\n",
      "854/854 [==============================] - 0s 49us/sample - loss: 0.5241 - accuracy: 0.7822\n",
      "Epoch 76/150\n",
      "854/854 [==============================] - 0s 48us/sample - loss: 0.5241 - accuracy: 0.7822\n",
      "Epoch 77/150\n",
      "854/854 [==============================] - 0s 50us/sample - loss: 0.5242 - accuracy: 0.7822\n",
      "Epoch 78/150\n",
      "854/854 [==============================] - 0s 53us/sample - loss: 0.5241 - accuracy: 0.7822\n",
      "Epoch 79/150\n",
      "854/854 [==============================] - 0s 49us/sample - loss: 0.5242 - accuracy: 0.7822\n",
      "Epoch 80/150\n",
      "854/854 [==============================] - 0s 48us/sample - loss: 0.5242 - accuracy: 0.7822\n",
      "Epoch 81/150\n",
      "854/854 [==============================] - 0s 47us/sample - loss: 0.5242 - accuracy: 0.7822\n",
      "Epoch 82/150\n",
      "854/854 [==============================] - 0s 48us/sample - loss: 0.5242 - accuracy: 0.7822\n",
      "Epoch 83/150\n",
      "854/854 [==============================] - 0s 50us/sample - loss: 0.5242 - accuracy: 0.7822\n",
      "Epoch 84/150\n",
      "854/854 [==============================] - 0s 51us/sample - loss: 0.5242 - accuracy: 0.7822\n",
      "Epoch 85/150\n",
      "854/854 [==============================] - 0s 54us/sample - loss: 0.5242 - accuracy: 0.7822\n",
      "Epoch 86/150\n",
      "854/854 [==============================] - 0s 50us/sample - loss: 0.5242 - accuracy: 0.7822\n",
      "Epoch 87/150\n",
      "854/854 [==============================] - 0s 50us/sample - loss: 0.5241 - accuracy: 0.7822\n",
      "Epoch 88/150\n",
      "854/854 [==============================] - 0s 50us/sample - loss: 0.5242 - accuracy: 0.7822\n",
      "Epoch 89/150\n",
      "854/854 [==============================] - 0s 47us/sample - loss: 0.5241 - accuracy: 0.7822\n",
      "Epoch 90/150\n",
      "854/854 [==============================] - 0s 49us/sample - loss: 0.5241 - accuracy: 0.7822\n",
      "Epoch 91/150\n",
      "854/854 [==============================] - 0s 48us/sample - loss: 0.5241 - accuracy: 0.7822\n",
      "Epoch 92/150\n",
      "854/854 [==============================] - 0s 50us/sample - loss: 0.5242 - accuracy: 0.7822\n",
      "Epoch 93/150\n",
      "854/854 [==============================] - 0s 49us/sample - loss: 0.5242 - accuracy: 0.7822\n",
      "Epoch 94/150\n",
      "854/854 [==============================] - 0s 47us/sample - loss: 0.5242 - accuracy: 0.7822\n",
      "Epoch 95/150\n",
      "854/854 [==============================] - 0s 48us/sample - loss: 0.5241 - accuracy: 0.7822\n",
      "Epoch 96/150\n",
      "854/854 [==============================] - 0s 49us/sample - loss: 0.5242 - accuracy: 0.7822\n",
      "Epoch 97/150\n",
      "854/854 [==============================] - 0s 48us/sample - loss: 0.5241 - accuracy: 0.7822\n",
      "Epoch 98/150\n",
      "854/854 [==============================] - 0s 51us/sample - loss: 0.5241 - accuracy: 0.7822\n",
      "Epoch 99/150\n",
      "854/854 [==============================] - 0s 49us/sample - loss: 0.5241 - accuracy: 0.7822\n",
      "Epoch 100/150\n",
      "854/854 [==============================] - 0s 49us/sample - loss: 0.5241 - accuracy: 0.7822\n",
      "Epoch 101/150\n",
      "854/854 [==============================] - 0s 48us/sample - loss: 0.5242 - accuracy: 0.7822\n",
      "Epoch 102/150\n",
      "854/854 [==============================] - 0s 47us/sample - loss: 0.5241 - accuracy: 0.7822\n",
      "Epoch 103/150\n",
      "854/854 [==============================] - 0s 49us/sample - loss: 0.5242 - accuracy: 0.7822\n",
      "Epoch 104/150\n",
      "854/854 [==============================] - 0s 48us/sample - loss: 0.5241 - accuracy: 0.7822\n",
      "Epoch 105/150\n",
      "854/854 [==============================] - 0s 51us/sample - loss: 0.5242 - accuracy: 0.7822\n",
      "Epoch 106/150\n",
      "854/854 [==============================] - 0s 48us/sample - loss: 0.5241 - accuracy: 0.7822\n",
      "Epoch 107/150\n",
      "854/854 [==============================] - 0s 49us/sample - loss: 0.5241 - accuracy: 0.7822\n",
      "Epoch 108/150\n",
      "854/854 [==============================] - 0s 48us/sample - loss: 0.5241 - accuracy: 0.7822\n",
      "Epoch 109/150\n",
      "854/854 [==============================] - 0s 48us/sample - loss: 0.5242 - accuracy: 0.7822\n",
      "Epoch 110/150\n",
      "854/854 [==============================] - 0s 48us/sample - loss: 0.5242 - accuracy: 0.7822\n",
      "Epoch 111/150\n",
      "854/854 [==============================] - 0s 49us/sample - loss: 0.5242 - accuracy: 0.7822\n",
      "Epoch 112/150\n",
      "854/854 [==============================] - 0s 49us/sample - loss: 0.5242 - accuracy: 0.7822\n",
      "Epoch 113/150\n",
      "854/854 [==============================] - 0s 48us/sample - loss: 0.5242 - accuracy: 0.7822\n",
      "Epoch 114/150\n",
      "854/854 [==============================] - 0s 49us/sample - loss: 0.5242 - accuracy: 0.7822\n",
      "Epoch 115/150\n",
      "854/854 [==============================] - 0s 49us/sample - loss: 0.5242 - accuracy: 0.7822\n",
      "Epoch 116/150\n",
      "854/854 [==============================] - 0s 47us/sample - loss: 0.5242 - accuracy: 0.7822\n",
      "Epoch 117/150\n",
      "854/854 [==============================] - 0s 49us/sample - loss: 0.5241 - accuracy: 0.7822\n",
      "Epoch 118/150\n",
      "854/854 [==============================] - 0s 51us/sample - loss: 0.5242 - accuracy: 0.7822\n",
      "Epoch 119/150\n",
      "854/854 [==============================] - 0s 50us/sample - loss: 0.5241 - accuracy: 0.7822\n",
      "Epoch 120/150\n",
      "854/854 [==============================] - 0s 48us/sample - loss: 0.5242 - accuracy: 0.7822\n",
      "Epoch 121/150\n",
      "854/854 [==============================] - 0s 49us/sample - loss: 0.5242 - accuracy: 0.7822\n",
      "Epoch 122/150\n",
      "854/854 [==============================] - 0s 49us/sample - loss: 0.5242 - accuracy: 0.7822\n",
      "Epoch 123/150\n",
      "854/854 [==============================] - 0s 51us/sample - loss: 0.5242 - accuracy: 0.7822\n",
      "Epoch 124/150\n",
      "854/854 [==============================] - 0s 50us/sample - loss: 0.5241 - accuracy: 0.7822\n",
      "Epoch 125/150\n",
      "854/854 [==============================] - 0s 49us/sample - loss: 0.5242 - accuracy: 0.7822\n",
      "Epoch 126/150\n",
      "854/854 [==============================] - 0s 49us/sample - loss: 0.5242 - accuracy: 0.7822\n",
      "Epoch 127/150\n",
      "854/854 [==============================] - 0s 48us/sample - loss: 0.5242 - accuracy: 0.7822\n",
      "Epoch 128/150\n",
      "854/854 [==============================] - 0s 50us/sample - loss: 0.5241 - accuracy: 0.7822\n",
      "Epoch 129/150\n",
      "854/854 [==============================] - 0s 50us/sample - loss: 0.5242 - accuracy: 0.7822\n",
      "Epoch 130/150\n",
      "854/854 [==============================] - 0s 51us/sample - loss: 0.5242 - accuracy: 0.7822\n",
      "Epoch 131/150\n",
      "854/854 [==============================] - 0s 49us/sample - loss: 0.5242 - accuracy: 0.7822\n",
      "Epoch 132/150\n",
      "854/854 [==============================] - 0s 48us/sample - loss: 0.5242 - accuracy: 0.7822\n",
      "Epoch 133/150\n",
      "854/854 [==============================] - 0s 49us/sample - loss: 0.5241 - accuracy: 0.7822\n",
      "Epoch 134/150\n",
      "854/854 [==============================] - 0s 48us/sample - loss: 0.5242 - accuracy: 0.7822\n",
      "Epoch 135/150\n",
      "854/854 [==============================] - 0s 50us/sample - loss: 0.5242 - accuracy: 0.7822\n",
      "Epoch 136/150\n",
      "854/854 [==============================] - 0s 51us/sample - loss: 0.5241 - accuracy: 0.7822\n",
      "Epoch 137/150\n",
      "854/854 [==============================] - 0s 51us/sample - loss: 0.5241 - accuracy: 0.7822\n",
      "Epoch 138/150\n",
      "854/854 [==============================] - 0s 49us/sample - loss: 0.5241 - accuracy: 0.7822\n",
      "Epoch 139/150\n",
      "854/854 [==============================] - 0s 48us/sample - loss: 0.5242 - accuracy: 0.7822\n",
      "Epoch 140/150\n",
      "854/854 [==============================] - 0s 50us/sample - loss: 0.5242 - accuracy: 0.7822\n",
      "Epoch 141/150\n",
      "854/854 [==============================] - 0s 49us/sample - loss: 0.5241 - accuracy: 0.7822\n",
      "Epoch 142/150\n",
      "854/854 [==============================] - 0s 47us/sample - loss: 0.5242 - accuracy: 0.7822\n",
      "Epoch 143/150\n",
      "854/854 [==============================] - 0s 48us/sample - loss: 0.5242 - accuracy: 0.7822\n",
      "Epoch 144/150\n",
      "854/854 [==============================] - 0s 48us/sample - loss: 0.5241 - accuracy: 0.7822\n",
      "Epoch 145/150\n",
      "854/854 [==============================] - 0s 48us/sample - loss: 0.5242 - accuracy: 0.7822\n",
      "Epoch 146/150\n",
      "854/854 [==============================] - 0s 48us/sample - loss: 0.5242 - accuracy: 0.7822\n",
      "Epoch 147/150\n",
      "854/854 [==============================] - 0s 50us/sample - loss: 0.5241 - accuracy: 0.7822\n",
      "Epoch 148/150\n",
      "854/854 [==============================] - 0s 48us/sample - loss: 0.5241 - accuracy: 0.7822\n",
      "Epoch 149/150\n",
      "854/854 [==============================] - 0s 48us/sample - loss: 0.5242 - accuracy: 0.7822\n",
      "Epoch 150/150\n",
      "854/854 [==============================] - 0s 50us/sample - loss: 0.5242 - accuracy: 0.7822\n"
     ]
    },
    {
     "data": {
      "text/plain": "<tensorflow.python.keras.callbacks.History at 0x1b7ab473a00>"
     },
     "execution_count": 27,
     "metadata": {},
     "output_type": "execute_result"
    }
   ],
   "source": [
    "# fit the keras model on the dataset\n",
    "model.fit(X_train, ct_train, epochs=150, batch_size=10)"
   ]
  },
  {
   "cell_type": "markdown",
   "metadata": {
    "scrolled": true
   },
   "source": [
    "<h2 id=\"evaluation\">Evaluation</h2>\n"
   ]
  },
  {
   "cell_type": "markdown",
   "metadata": {},
   "source": [
    "### Evaluate Keras Model\n",
    "We have trained our neural network on the entire dataset and we can evaluate the performance of the network on the same dataset.This will only give us an idea of how well we have modeled the dataset (e.g. train accuracy), but no idea of how well the algorithm might perform on new data. \n",
    "\n",
    "You can also evaluate your model on your testing dataset using the evaluate() function on your model and pass it the input and output from the testing set.\n",
    "\n",
    "This will generate a prediction for each input and output pair and collect scores, including the average loss and any metrics you have configured, such as accuracy.\n",
    "\n",
    "The evaluate() function will return a list with two values. The first will be the loss of the model on the dataset and the second will be the accuracy of the model on the dataset. We are only interested in reporting the accuracy, so we will ignore the loss value."
   ]
  },
  {
   "cell_type": "code",
   "execution_count": 28,
   "metadata": {},
   "outputs": [
    {
     "name": "stdout",
     "output_type": "stream",
     "text": [
      "Accuracy: 78.22\n"
     ]
    },
    {
     "name": "stderr",
     "output_type": "stream",
     "text": [
      "D:\\Users\\Reaga\\anaconda3\\envs\\tf1\\lib\\site-packages\\tensorflow\\python\\keras\\engine\\training.py:2455: UserWarning: `Model.state_updates` will be removed in a future version. This property should not be used in TensorFlow 2.0, as `updates` are applied automatically.\n",
      "  warnings.warn('`Model.state_updates` will be removed in a future version. '\n"
     ]
    }
   ],
   "source": [
    "\n",
    "# evaluate the keras model within the training set\n",
    "_, accuracy = model.evaluate(X_train, ct_train)\n",
    "print('Accuracy: %.2f' % (accuracy*100))\n"
   ]
  },
  {
   "cell_type": "code",
   "execution_count": 29,
   "metadata": {},
   "outputs": [
    {
     "name": "stdout",
     "output_type": "stream",
     "text": [
      "Accuracy: 77.00\n"
     ]
    }
   ],
   "source": [
    "\n",
    "# evaluate the keras model with the testing set\n",
    "_, accuracy = model.evaluate(X_test, ct_test)\n",
    "print('Accuracy: %.2f' % (accuracy*100))"
   ]
  },
  {
   "cell_type": "markdown",
   "metadata": {},
   "source": [
    "### Make Predictions\n",
    "\n",
    "\n",
    "Making predictions is as easy as calling the predict() function on the model. We are using a sigmoid activation function on the output layer, so the predictions will be a probability in the range between 0 and 1. We can easily convert them into a crisp binary prediction for this classification task by rounding them using the predict_classes function."
   ]
  },
  {
   "cell_type": "code",
   "execution_count": 30,
   "metadata": {},
   "outputs": [
    {
     "name": "stderr",
     "output_type": "stream",
     "text": [
      "D:\\Users\\Reaga\\anaconda3\\envs\\tf1\\lib\\site-packages\\tensorflow\\python\\keras\\engine\\sequential.py:454: UserWarning: `model.predict_classes()` is deprecated and will be removed after 2021-01-01. Please use instead:* `np.argmax(model.predict(x), axis=-1)`,   if your model does multi-class classification   (e.g. if it uses a `softmax` last-layer activation).* `(model.predict(x) > 0.5).astype(\"int32\")`,   if your model does binary classification   (e.g. if it uses a `sigmoid` last-layer activation).\n",
      "  warnings.warn('`model.predict_classes()` is deprecated and '\n"
     ]
    },
    {
     "data": {
      "text/plain": "array([[0],\n       [0],\n       [0],\n       [0],\n       [0],\n       [0],\n       [0],\n       [0],\n       [0],\n       [0],\n       [0],\n       [0],\n       [0],\n       [0],\n       [0],\n       [0],\n       [0],\n       [0],\n       [0],\n       [0],\n       [0],\n       [0],\n       [0],\n       [0],\n       [0],\n       [0],\n       [0],\n       [0],\n       [0],\n       [0],\n       [0],\n       [0],\n       [0],\n       [0],\n       [0],\n       [0],\n       [0],\n       [0],\n       [0],\n       [0],\n       [0],\n       [0],\n       [0],\n       [0],\n       [0],\n       [0],\n       [0],\n       [0],\n       [0],\n       [0],\n       [0],\n       [0],\n       [0],\n       [0],\n       [0],\n       [0],\n       [0],\n       [0],\n       [0],\n       [0],\n       [0],\n       [0],\n       [0],\n       [0],\n       [0],\n       [0],\n       [0],\n       [0],\n       [0],\n       [0],\n       [0],\n       [0],\n       [0],\n       [0],\n       [0],\n       [0],\n       [0],\n       [0],\n       [0],\n       [0],\n       [0],\n       [0],\n       [0],\n       [0],\n       [0],\n       [0],\n       [0],\n       [0],\n       [0],\n       [0],\n       [0],\n       [0],\n       [0],\n       [0],\n       [0],\n       [0],\n       [0],\n       [0],\n       [0],\n       [0],\n       [0],\n       [0],\n       [0],\n       [0],\n       [0],\n       [0],\n       [0],\n       [0],\n       [0],\n       [0],\n       [0],\n       [0],\n       [0],\n       [0],\n       [0],\n       [0],\n       [0],\n       [0],\n       [0],\n       [0],\n       [0],\n       [0],\n       [0],\n       [0],\n       [0],\n       [0],\n       [0],\n       [0],\n       [0],\n       [0],\n       [0],\n       [0],\n       [0],\n       [0],\n       [0],\n       [0],\n       [0],\n       [0],\n       [0],\n       [0],\n       [0],\n       [0],\n       [0],\n       [0],\n       [0],\n       [0],\n       [0],\n       [0],\n       [0],\n       [0],\n       [0],\n       [0],\n       [0],\n       [0],\n       [0],\n       [0],\n       [0],\n       [0],\n       [0],\n       [0],\n       [0],\n       [0],\n       [0],\n       [0],\n       [0],\n       [0],\n       [0],\n       [0],\n       [0],\n       [0],\n       [0],\n       [0],\n       [0],\n       [0],\n       [0],\n       [0],\n       [0],\n       [0],\n       [0],\n       [0],\n       [0],\n       [0],\n       [0],\n       [0],\n       [0],\n       [0],\n       [0],\n       [0],\n       [0],\n       [0],\n       [0],\n       [0],\n       [0],\n       [0],\n       [0],\n       [0],\n       [0],\n       [0],\n       [0],\n       [0],\n       [0],\n       [0],\n       [0],\n       [0],\n       [0],\n       [0],\n       [0],\n       [0],\n       [0],\n       [0],\n       [0],\n       [0],\n       [0],\n       [0],\n       [0],\n       [0],\n       [0],\n       [0],\n       [0],\n       [0],\n       [0],\n       [0],\n       [0],\n       [0],\n       [0],\n       [0],\n       [0],\n       [0],\n       [0],\n       [0],\n       [0],\n       [0],\n       [0],\n       [0],\n       [0],\n       [0],\n       [0],\n       [0],\n       [0],\n       [0],\n       [0],\n       [0],\n       [0],\n       [0],\n       [0],\n       [0],\n       [0],\n       [0],\n       [0],\n       [0],\n       [0],\n       [0],\n       [0],\n       [0],\n       [0],\n       [0],\n       [0],\n       [0],\n       [0],\n       [0],\n       [0],\n       [0],\n       [0],\n       [0],\n       [0],\n       [0],\n       [0],\n       [0],\n       [0],\n       [0],\n       [0],\n       [0],\n       [0],\n       [0],\n       [0],\n       [0],\n       [0],\n       [0],\n       [0],\n       [0],\n       [0],\n       [0],\n       [0],\n       [0],\n       [0],\n       [0],\n       [0],\n       [0],\n       [0],\n       [0],\n       [0],\n       [0],\n       [0],\n       [0],\n       [0],\n       [0],\n       [0],\n       [0],\n       [0],\n       [0],\n       [0],\n       [0],\n       [0],\n       [0],\n       [0],\n       [0],\n       [0],\n       [0],\n       [0],\n       [0],\n       [0],\n       [0],\n       [0],\n       [0],\n       [0],\n       [0],\n       [0],\n       [0],\n       [0],\n       [0],\n       [0],\n       [0],\n       [0],\n       [0],\n       [0],\n       [0],\n       [0],\n       [0],\n       [0],\n       [0],\n       [0],\n       [0],\n       [0],\n       [0],\n       [0],\n       [0],\n       [0],\n       [0],\n       [0],\n       [0],\n       [0],\n       [0],\n       [0],\n       [0],\n       [0],\n       [0],\n       [0],\n       [0],\n       [0],\n       [0],\n       [0],\n       [0],\n       [0],\n       [0],\n       [0],\n       [0],\n       [0],\n       [0],\n       [0],\n       [0],\n       [0],\n       [0],\n       [0],\n       [0],\n       [0],\n       [0],\n       [0],\n       [0],\n       [0],\n       [0],\n       [0],\n       [0],\n       [0],\n       [0],\n       [0],\n       [0],\n       [0],\n       [0],\n       [0],\n       [0],\n       [0],\n       [0],\n       [0],\n       [0],\n       [0],\n       [0],\n       [0],\n       [0],\n       [0],\n       [0],\n       [0],\n       [0],\n       [0],\n       [0],\n       [0],\n       [0],\n       [0],\n       [0],\n       [0],\n       [0],\n       [0],\n       [0],\n       [0],\n       [0],\n       [0],\n       [0],\n       [0],\n       [0],\n       [0],\n       [0],\n       [0],\n       [0],\n       [0],\n       [0],\n       [0],\n       [0],\n       [0],\n       [0],\n       [0],\n       [0],\n       [0],\n       [0],\n       [0],\n       [0],\n       [0],\n       [0],\n       [0],\n       [0],\n       [0],\n       [0],\n       [0],\n       [0],\n       [0],\n       [0],\n       [0],\n       [0],\n       [0],\n       [0],\n       [0],\n       [0],\n       [0],\n       [0],\n       [0],\n       [0],\n       [0],\n       [0],\n       [0],\n       [0],\n       [0],\n       [0],\n       [0],\n       [0],\n       [0],\n       [0],\n       [0],\n       [0],\n       [0],\n       [0],\n       [0],\n       [0],\n       [0],\n       [0],\n       [0],\n       [0],\n       [0],\n       [0],\n       [0],\n       [0],\n       [0],\n       [0],\n       [0],\n       [0],\n       [0],\n       [0],\n       [0],\n       [0],\n       [0],\n       [0],\n       [0],\n       [0],\n       [0],\n       [0],\n       [0],\n       [0],\n       [0],\n       [0],\n       [0],\n       [0],\n       [0],\n       [0],\n       [0],\n       [0],\n       [0],\n       [0],\n       [0],\n       [0],\n       [0],\n       [0],\n       [0],\n       [0],\n       [0],\n       [0],\n       [0],\n       [0],\n       [0],\n       [0],\n       [0],\n       [0],\n       [0],\n       [0],\n       [0],\n       [0],\n       [0],\n       [0],\n       [0],\n       [0],\n       [0],\n       [0],\n       [0],\n       [0],\n       [0],\n       [0],\n       [0],\n       [0],\n       [0],\n       [0],\n       [0],\n       [0],\n       [0],\n       [0],\n       [0],\n       [0],\n       [0],\n       [0],\n       [0],\n       [0],\n       [0],\n       [0],\n       [0],\n       [0],\n       [0],\n       [0],\n       [0],\n       [0],\n       [0],\n       [0],\n       [0],\n       [0],\n       [0],\n       [0],\n       [0],\n       [0],\n       [0],\n       [0],\n       [0],\n       [0],\n       [0],\n       [0],\n       [0],\n       [0],\n       [0],\n       [0],\n       [0],\n       [0],\n       [0],\n       [0],\n       [0],\n       [0],\n       [0],\n       [0],\n       [0],\n       [0],\n       [0],\n       [0],\n       [0],\n       [0],\n       [0],\n       [0],\n       [0],\n       [0],\n       [0],\n       [0],\n       [0],\n       [0],\n       [0],\n       [0],\n       [0],\n       [0],\n       [0],\n       [0],\n       [0],\n       [0],\n       [0],\n       [0],\n       [0],\n       [0],\n       [0],\n       [0],\n       [0],\n       [0],\n       [0],\n       [0],\n       [0],\n       [0],\n       [0],\n       [0],\n       [0],\n       [0],\n       [0],\n       [0],\n       [0],\n       [0],\n       [0],\n       [0],\n       [0],\n       [0],\n       [0],\n       [0],\n       [0],\n       [0],\n       [0],\n       [0],\n       [0],\n       [0],\n       [0],\n       [0],\n       [0],\n       [0],\n       [0],\n       [0],\n       [0],\n       [0],\n       [0],\n       [0],\n       [0],\n       [0],\n       [0],\n       [0],\n       [0],\n       [0],\n       [0],\n       [0],\n       [0],\n       [0],\n       [0],\n       [0],\n       [0],\n       [0],\n       [0],\n       [0],\n       [0],\n       [0],\n       [0],\n       [0],\n       [0],\n       [0],\n       [0],\n       [0],\n       [0],\n       [0],\n       [0],\n       [0],\n       [0],\n       [0],\n       [0],\n       [0],\n       [0],\n       [0],\n       [0],\n       [0],\n       [0],\n       [0],\n       [0],\n       [0],\n       [0],\n       [0],\n       [0],\n       [0],\n       [0],\n       [0],\n       [0],\n       [0],\n       [0],\n       [0],\n       [0],\n       [0],\n       [0],\n       [0],\n       [0],\n       [0],\n       [0],\n       [0],\n       [0],\n       [0],\n       [0],\n       [0],\n       [0],\n       [0],\n       [0],\n       [0],\n       [0],\n       [0],\n       [0],\n       [0],\n       [0],\n       [0],\n       [0],\n       [0],\n       [0],\n       [0],\n       [0],\n       [0],\n       [0],\n       [0],\n       [0],\n       [0],\n       [0],\n       [0],\n       [0],\n       [0],\n       [0],\n       [0],\n       [0],\n       [0],\n       [0],\n       [0],\n       [0],\n       [0],\n       [0],\n       [0],\n       [0],\n       [0],\n       [0],\n       [0],\n       [0],\n       [0],\n       [0],\n       [0],\n       [0],\n       [0],\n       [0],\n       [0],\n       [0],\n       [0],\n       [0],\n       [0],\n       [0],\n       [0],\n       [0],\n       [0],\n       [0],\n       [0],\n       [0],\n       [0],\n       [0],\n       [0],\n       [0],\n       [0],\n       [0],\n       [0],\n       [0],\n       [0],\n       [0],\n       [0],\n       [0],\n       [0],\n       [0],\n       [0],\n       [0],\n       [0],\n       [0],\n       [0],\n       [0],\n       [0],\n       [0],\n       [0],\n       [0],\n       [0],\n       [0],\n       [0],\n       [0],\n       [0],\n       [0],\n       [0],\n       [0],\n       [0],\n       [0],\n       [0],\n       [0],\n       [0],\n       [0],\n       [0],\n       [0],\n       [0],\n       [0],\n       [0],\n       [0],\n       [0],\n       [0],\n       [0],\n       [0],\n       [0],\n       [0],\n       [0],\n       [0],\n       [0],\n       [0],\n       [0],\n       [0],\n       [0],\n       [0],\n       [0],\n       [0],\n       [0],\n       [0],\n       [0],\n       [0],\n       [0],\n       [0],\n       [0],\n       [0],\n       [0],\n       [0],\n       [0],\n       [0],\n       [0],\n       [0],\n       [0],\n       [0],\n       [0],\n       [0],\n       [0],\n       [0],\n       [0],\n       [0],\n       [0],\n       [0],\n       [0],\n       [0],\n       [0],\n       [0],\n       [0],\n       [0],\n       [0],\n       [0],\n       [0],\n       [0],\n       [0],\n       [0],\n       [0],\n       [0],\n       [0],\n       [0],\n       [0]])"
     },
     "execution_count": 30,
     "metadata": {},
     "output_type": "execute_result"
    }
   ],
   "source": [
    "# make class predictions with the model\n",
    "predictions_train = model.predict_classes(X_train)\n",
    "predictions_train"
   ]
  },
  {
   "cell_type": "code",
   "execution_count": 31,
   "metadata": {},
   "outputs": [
    {
     "data": {
      "text/plain": "array([[0],\n       [0],\n       [0],\n       [0],\n       [0],\n       [0],\n       [0],\n       [0],\n       [0],\n       [0],\n       [0],\n       [0],\n       [0],\n       [0],\n       [0],\n       [0],\n       [0],\n       [0],\n       [0],\n       [0],\n       [0],\n       [0],\n       [0],\n       [0],\n       [0],\n       [0],\n       [0],\n       [0],\n       [0],\n       [0],\n       [0],\n       [0],\n       [0],\n       [0],\n       [0],\n       [0],\n       [0],\n       [0],\n       [0],\n       [0],\n       [0],\n       [0],\n       [0],\n       [0],\n       [0],\n       [0],\n       [0],\n       [0],\n       [0],\n       [0],\n       [0],\n       [0],\n       [0],\n       [0],\n       [0],\n       [0],\n       [0],\n       [0],\n       [0],\n       [0],\n       [0],\n       [0],\n       [0],\n       [0],\n       [0],\n       [0],\n       [0],\n       [0],\n       [0],\n       [0],\n       [0],\n       [0],\n       [0],\n       [0],\n       [0],\n       [0],\n       [0],\n       [0],\n       [0],\n       [0],\n       [0],\n       [0],\n       [0],\n       [0],\n       [0],\n       [0],\n       [0],\n       [0],\n       [0],\n       [0],\n       [0],\n       [0],\n       [0],\n       [0],\n       [0],\n       [0],\n       [0],\n       [0],\n       [0],\n       [0],\n       [0],\n       [0],\n       [0],\n       [0],\n       [0],\n       [0],\n       [0],\n       [0],\n       [0],\n       [0],\n       [0],\n       [0],\n       [0],\n       [0],\n       [0],\n       [0],\n       [0],\n       [0],\n       [0],\n       [0],\n       [0],\n       [0],\n       [0],\n       [0],\n       [0],\n       [0],\n       [0],\n       [0],\n       [0],\n       [0],\n       [0],\n       [0],\n       [0],\n       [0],\n       [0],\n       [0],\n       [0],\n       [0],\n       [0],\n       [0],\n       [0],\n       [0],\n       [0],\n       [0],\n       [0],\n       [0],\n       [0],\n       [0],\n       [0],\n       [0],\n       [0],\n       [0],\n       [0],\n       [0],\n       [0],\n       [0],\n       [0],\n       [0],\n       [0],\n       [0],\n       [0],\n       [0],\n       [0],\n       [0],\n       [0],\n       [0],\n       [0],\n       [0],\n       [0],\n       [0],\n       [0],\n       [0],\n       [0],\n       [0],\n       [0],\n       [0],\n       [0],\n       [0],\n       [0],\n       [0],\n       [0],\n       [0],\n       [0],\n       [0],\n       [0],\n       [0],\n       [0],\n       [0],\n       [0],\n       [0],\n       [0],\n       [0],\n       [0],\n       [0],\n       [0],\n       [0],\n       [0],\n       [0],\n       [0],\n       [0],\n       [0],\n       [0],\n       [0],\n       [0],\n       [0],\n       [0],\n       [0],\n       [0],\n       [0],\n       [0],\n       [0],\n       [0],\n       [0]])"
     },
     "execution_count": 31,
     "metadata": {},
     "output_type": "execute_result"
    }
   ],
   "source": [
    "# make class predictions with the model\n",
    "predictions_test = model.predict_classes(X_test)\n",
    "predictions_test"
   ]
  },
  {
   "cell_type": "code",
   "execution_count": 32,
   "metadata": {},
   "outputs": [
    {
     "data": {
      "text/plain": "0.0"
     },
     "execution_count": 32,
     "metadata": {},
     "output_type": "execute_result"
    }
   ],
   "source": [
    "from sklearn.metrics import jaccard_score\n",
    "jaccard_score(ct_test, predictions_test)"
   ]
  },
  {
   "cell_type": "code",
   "execution_count": 33,
   "metadata": {},
   "outputs": [
    {
     "name": "stdout",
     "output_type": "stream",
     "text": [
      "[[  0  49]\n",
      " [  0 164]]\n"
     ]
    }
   ],
   "source": [
    "from sklearn.metrics import classification_report, confusion_matrix\n",
    "import itertools\n",
    "def plot_confusion_matrix(cm, classes,\n",
    "                          normalize=False,\n",
    "                          title='Confusion matrix',\n",
    "                          cmap=plt.cm.Blues):\n",
    "    \"\"\"\n",
    "    This function prints and plots the confusion matrix.\n",
    "    Normalization can be applied by setting `normalize=True`.\n",
    "    \"\"\"\n",
    "    if normalize:\n",
    "        cm = cm.astype('float') / cm.sum(axis=1)[:, np.newaxis]\n",
    "        print(\"Normalized confusion matrix\")\n",
    "    else:\n",
    "        print('Confusion matrix, without normalization')\n",
    "\n",
    "    print(cm)\n",
    "\n",
    "    plt.imshow(cm, interpolation='nearest', cmap=cmap)\n",
    "    plt.title(title)\n",
    "    plt.colorbar()\n",
    "    tick_marks = np.arange(len(classes))\n",
    "    plt.xticks(tick_marks, classes, rotation=45)\n",
    "    plt.yticks(tick_marks, classes)\n",
    "\n",
    "    fmt = '.2f' if normalize else 'd'\n",
    "    thresh = cm.max() / 2.\n",
    "    for i, j in itertools.product(range(cm.shape[0]), range(cm.shape[1])):\n",
    "        plt.text(j, i, format(cm[i, j], fmt),\n",
    "                 horizontalalignment=\"center\",\n",
    "                 color=\"white\" if cm[i, j] > thresh else \"black\")\n",
    "\n",
    "    plt.tight_layout()\n",
    "    plt.ylabel('True label')\n",
    "    plt.xlabel('Predicted label')\n",
    "print(confusion_matrix(ct_test, predictions_test, labels=[1,0]))"
   ]
  },
  {
   "cell_type": "code",
   "execution_count": 34,
   "metadata": {},
   "outputs": [
    {
     "name": "stdout",
     "output_type": "stream",
     "text": [
      "Confusion matrix, without normalization\n",
      "[[  0  49]\n",
      " [  0 164]]\n"
     ]
    },
    {
     "data": {
      "text/plain": "<Figure size 640x480 with 2 Axes>",
      "image/png": "[encoded data removed]"
     },
     "metadata": {},
     "output_type": "display_data"
    }
   ],
   "source": [
    "# Compute confusion matrix\n",
    "cnf_matrix = confusion_matrix(ct_test, predictions_test, labels=[1,0])\n",
    "np.set_printoptions(precision=2)\n",
    "\n",
    "\n",
    "# Plot non-normalized confusion matrix\n",
    "plt.figure()\n",
    "plot_confusion_matrix(cnf_matrix, classes=['ct=1','ct=0'],normalize= False,  title='Confusion matrix')"
   ]
  },
  {
   "cell_type": "markdown",
   "metadata": {},
   "source": [
    "#### Practice\n",
    "1. Rebuild the neural network with 10 neurons on the hidden layer. \n",
    "3. Rebuild the neural network with 3 hidden layers."
   ]
  },
  {
   "cell_type": "markdown",
   "metadata": {},
   "source": [
    "Note: model.predict_classes is deprecated for tensorflow versions after 2.6. Try the followings instead to predict the classes."
   ]
  },
  {
   "cell_type": "code",
   "execution_count": 35,
   "metadata": {},
   "outputs": [
    {
     "name": "stdout",
     "output_type": "stream",
     "text": [
      "[[0.22]\n",
      " [0.22]\n",
      " [0.22]\n",
      " [0.22]\n",
      " [0.22]\n",
      " [0.22]\n",
      " [0.22]\n",
      " [0.22]\n",
      " [0.22]\n",
      " [0.22]\n",
      " [0.22]\n",
      " [0.22]\n",
      " [0.22]\n",
      " [0.22]\n",
      " [0.22]\n",
      " [0.22]\n",
      " [0.22]\n",
      " [0.22]\n",
      " [0.22]\n",
      " [0.22]\n",
      " [0.22]\n",
      " [0.22]\n",
      " [0.22]\n",
      " [0.22]\n",
      " [0.22]\n",
      " [0.22]\n",
      " [0.22]\n",
      " [0.22]\n",
      " [0.22]\n",
      " [0.22]\n",
      " [0.22]\n",
      " [0.22]\n",
      " [0.22]\n",
      " [0.22]\n",
      " [0.22]\n",
      " [0.22]\n",
      " [0.22]\n",
      " [0.22]\n",
      " [0.22]\n",
      " [0.22]\n",
      " [0.22]\n",
      " [0.22]\n",
      " [0.22]\n",
      " [0.22]\n",
      " [0.22]\n",
      " [0.22]\n",
      " [0.22]\n",
      " [0.22]\n",
      " [0.22]\n",
      " [0.22]\n",
      " [0.22]\n",
      " [0.22]\n",
      " [0.22]\n",
      " [0.22]\n",
      " [0.22]\n",
      " [0.22]\n",
      " [0.22]\n",
      " [0.22]\n",
      " [0.22]\n",
      " [0.22]\n",
      " [0.22]\n",
      " [0.22]\n",
      " [0.22]\n",
      " [0.22]\n",
      " [0.22]\n",
      " [0.22]\n",
      " [0.22]\n",
      " [0.22]\n",
      " [0.22]\n",
      " [0.22]\n",
      " [0.22]\n",
      " [0.22]\n",
      " [0.22]\n",
      " [0.22]\n",
      " [0.22]\n",
      " [0.22]\n",
      " [0.22]\n",
      " [0.22]\n",
      " [0.22]\n",
      " [0.22]\n",
      " [0.22]\n",
      " [0.22]\n",
      " [0.22]\n",
      " [0.22]\n",
      " [0.22]\n",
      " [0.22]\n",
      " [0.22]\n",
      " [0.22]\n",
      " [0.22]\n",
      " [0.22]\n",
      " [0.22]\n",
      " [0.22]\n",
      " [0.22]\n",
      " [0.22]\n",
      " [0.22]\n",
      " [0.22]\n",
      " [0.22]\n",
      " [0.22]\n",
      " [0.22]\n",
      " [0.22]\n",
      " [0.22]\n",
      " [0.22]\n",
      " [0.22]\n",
      " [0.22]\n",
      " [0.22]\n",
      " [0.22]\n",
      " [0.22]\n",
      " [0.22]\n",
      " [0.22]\n",
      " [0.22]\n",
      " [0.22]\n",
      " [0.22]\n",
      " [0.22]\n",
      " [0.22]\n",
      " [0.22]\n",
      " [0.22]\n",
      " [0.22]\n",
      " [0.22]\n",
      " [0.22]\n",
      " [0.22]\n",
      " [0.22]\n",
      " [0.22]\n",
      " [0.22]\n",
      " [0.22]\n",
      " [0.22]\n",
      " [0.22]\n",
      " [0.22]\n",
      " [0.22]\n",
      " [0.22]\n",
      " [0.22]\n",
      " [0.22]\n",
      " [0.22]\n",
      " [0.22]\n",
      " [0.22]\n",
      " [0.22]\n",
      " [0.22]\n",
      " [0.22]\n",
      " [0.22]\n",
      " [0.22]\n",
      " [0.22]\n",
      " [0.22]\n",
      " [0.22]\n",
      " [0.22]\n",
      " [0.22]\n",
      " [0.22]\n",
      " [0.22]\n",
      " [0.22]\n",
      " [0.22]\n",
      " [0.22]\n",
      " [0.22]\n",
      " [0.22]\n",
      " [0.22]\n",
      " [0.22]\n",
      " [0.22]\n",
      " [0.22]\n",
      " [0.22]\n",
      " [0.22]\n",
      " [0.22]\n",
      " [0.22]\n",
      " [0.22]\n",
      " [0.22]\n",
      " [0.22]\n",
      " [0.22]\n",
      " [0.22]\n",
      " [0.22]\n",
      " [0.22]\n",
      " [0.22]\n",
      " [0.22]\n",
      " [0.22]\n",
      " [0.22]\n",
      " [0.22]\n",
      " [0.22]\n",
      " [0.22]\n",
      " [0.22]\n",
      " [0.22]\n",
      " [0.22]\n",
      " [0.22]\n",
      " [0.22]\n",
      " [0.22]\n",
      " [0.22]\n",
      " [0.22]\n",
      " [0.22]\n",
      " [0.22]\n",
      " [0.22]\n",
      " [0.22]\n",
      " [0.22]\n",
      " [0.22]\n",
      " [0.22]\n",
      " [0.22]\n",
      " [0.22]\n",
      " [0.22]\n",
      " [0.22]\n",
      " [0.22]\n",
      " [0.22]\n",
      " [0.22]\n",
      " [0.22]\n",
      " [0.22]\n",
      " [0.22]\n",
      " [0.22]\n",
      " [0.22]\n",
      " [0.22]\n",
      " [0.22]\n",
      " [0.22]\n",
      " [0.22]\n",
      " [0.22]\n",
      " [0.22]\n",
      " [0.22]\n",
      " [0.22]\n",
      " [0.22]\n",
      " [0.22]\n",
      " [0.22]\n",
      " [0.22]\n",
      " [0.22]]\n"
     ]
    }
   ],
   "source": [
    "ct_prob=model.predict(X_test)\n",
    "print(ct_prob)"
   ]
  },
  {
   "cell_type": "code",
   "execution_count": 36,
   "metadata": {},
   "outputs": [],
   "source": [
    "ct_predict_test=np.where(ct_prob > 0.5, 1,0)"
   ]
  },
  {
   "cell_type": "code",
   "execution_count": 37,
   "metadata": {},
   "outputs": [
    {
     "data": {
      "text/plain": "0.0"
     },
     "execution_count": 37,
     "metadata": {},
     "output_type": "execute_result"
    }
   ],
   "source": [
    "jaccard_score(ct_test, ct_predict_test)"
   ]
  },
  {
   "cell_type": "code",
   "execution_count": 40,
   "metadata": {},
   "outputs": [
    {
     "ename": "AttributeError",
     "evalue": "partially initialized module 'charset_normalizer' has no attribute 'md__mypyc' (most likely due to a circular import)",
     "output_type": "error",
     "traceback": [
      "\u001B[1;31m---------------------------------------------------------------------------\u001B[0m",
      "\u001B[1;31mModuleNotFoundError\u001B[0m                       Traceback (most recent call last)",
      "File \u001B[1;32mD:\\Users\\Reaga\\anaconda3\\envs\\tf1\\lib\\site-packages\\requests\\compat.py:11\u001B[0m\n\u001B[0;32m     10\u001B[0m \u001B[38;5;28;01mtry\u001B[39;00m:\n\u001B[1;32m---> 11\u001B[0m     \u001B[38;5;28;01mimport\u001B[39;00m \u001B[38;5;21;01mchardet\u001B[39;00m\n\u001B[0;32m     12\u001B[0m \u001B[38;5;28;01mexcept\u001B[39;00m \u001B[38;5;167;01mImportError\u001B[39;00m:\n",
      "\u001B[1;31mModuleNotFoundError\u001B[0m: No module named 'chardet'",
      "\nDuring handling of the above exception, another exception occurred:\n",
      "\u001B[1;31mAttributeError\u001B[0m                            Traceback (most recent call last)",
      "Cell \u001B[1;32mIn[40], line 1\u001B[0m\n\u001B[1;32m----> 1\u001B[0m \u001B[38;5;28;01mimport\u001B[39;00m \u001B[38;5;21;01mtensorflow\u001B[39;00m\n\u001B[0;32m      2\u001B[0m tensorflow\u001B[38;5;241m.\u001B[39m__version__\n",
      "File \u001B[1;32mD:\\Users\\Reaga\\anaconda3\\envs\\tf1\\lib\\site-packages\\tensorflow\\__init__.py:51\u001B[0m\n\u001B[0;32m     49\u001B[0m \u001B[38;5;28;01mfrom\u001B[39;00m \u001B[38;5;21;01m.\u001B[39;00m\u001B[38;5;21;01m_api\u001B[39;00m\u001B[38;5;21;01m.\u001B[39;00m\u001B[38;5;21;01mv2\u001B[39;00m \u001B[38;5;28;01mimport\u001B[39;00m autograph\n\u001B[0;32m     50\u001B[0m \u001B[38;5;28;01mfrom\u001B[39;00m \u001B[38;5;21;01m.\u001B[39;00m\u001B[38;5;21;01m_api\u001B[39;00m\u001B[38;5;21;01m.\u001B[39;00m\u001B[38;5;21;01mv2\u001B[39;00m \u001B[38;5;28;01mimport\u001B[39;00m bitwise\n\u001B[1;32m---> 51\u001B[0m \u001B[38;5;28;01mfrom\u001B[39;00m \u001B[38;5;21;01m.\u001B[39;00m\u001B[38;5;21;01m_api\u001B[39;00m\u001B[38;5;21;01m.\u001B[39;00m\u001B[38;5;21;01mv2\u001B[39;00m \u001B[38;5;28;01mimport\u001B[39;00m compat\n\u001B[0;32m     52\u001B[0m \u001B[38;5;28;01mfrom\u001B[39;00m \u001B[38;5;21;01m.\u001B[39;00m\u001B[38;5;21;01m_api\u001B[39;00m\u001B[38;5;21;01m.\u001B[39;00m\u001B[38;5;21;01mv2\u001B[39;00m \u001B[38;5;28;01mimport\u001B[39;00m config\n\u001B[0;32m     53\u001B[0m \u001B[38;5;28;01mfrom\u001B[39;00m \u001B[38;5;21;01m.\u001B[39;00m\u001B[38;5;21;01m_api\u001B[39;00m\u001B[38;5;21;01m.\u001B[39;00m\u001B[38;5;21;01mv2\u001B[39;00m \u001B[38;5;28;01mimport\u001B[39;00m data\n",
      "File \u001B[1;32mD:\\Users\\Reaga\\anaconda3\\envs\\tf1\\lib\\site-packages\\tensorflow\\_api\\v2\\compat\\__init__.py:37\u001B[0m\n\u001B[0;32m      3\u001B[0m \u001B[38;5;124;03m\"\"\"Compatibility functions.\u001B[39;00m\n\u001B[0;32m      4\u001B[0m \n\u001B[0;32m      5\u001B[0m \u001B[38;5;124;03mThe `tf.compat` module contains two sets of compatibility functions.\u001B[39;00m\n\u001B[1;32m   (...)\u001B[0m\n\u001B[0;32m     32\u001B[0m \n\u001B[0;32m     33\u001B[0m \u001B[38;5;124;03m\"\"\"\u001B[39;00m\n\u001B[0;32m     35\u001B[0m \u001B[38;5;28;01mimport\u001B[39;00m \u001B[38;5;21;01msys\u001B[39;00m \u001B[38;5;28;01mas\u001B[39;00m \u001B[38;5;21;01m_sys\u001B[39;00m\n\u001B[1;32m---> 37\u001B[0m \u001B[38;5;28;01mfrom\u001B[39;00m \u001B[38;5;21;01m.\u001B[39;00m \u001B[38;5;28;01mimport\u001B[39;00m v1\n\u001B[0;32m     38\u001B[0m \u001B[38;5;28;01mfrom\u001B[39;00m \u001B[38;5;21;01m.\u001B[39;00m \u001B[38;5;28;01mimport\u001B[39;00m v2\n\u001B[0;32m     39\u001B[0m \u001B[38;5;28;01mfrom\u001B[39;00m \u001B[38;5;21;01mtensorflow\u001B[39;00m\u001B[38;5;21;01m.\u001B[39;00m\u001B[38;5;21;01mpython\u001B[39;00m\u001B[38;5;21;01m.\u001B[39;00m\u001B[38;5;21;01mcompat\u001B[39;00m\u001B[38;5;21;01m.\u001B[39;00m\u001B[38;5;21;01mcompat\u001B[39;00m \u001B[38;5;28;01mimport\u001B[39;00m forward_compatibility_horizon\n",
      "File \u001B[1;32mD:\\Users\\Reaga\\anaconda3\\envs\\tf1\\lib\\site-packages\\tensorflow\\_api\\v2\\compat\\v1\\__init__.py:30\u001B[0m\n\u001B[0;32m     28\u001B[0m \u001B[38;5;28;01mfrom\u001B[39;00m \u001B[38;5;21;01m.\u001B[39;00m \u001B[38;5;28;01mimport\u001B[39;00m autograph\n\u001B[0;32m     29\u001B[0m \u001B[38;5;28;01mfrom\u001B[39;00m \u001B[38;5;21;01m.\u001B[39;00m \u001B[38;5;28;01mimport\u001B[39;00m bitwise\n\u001B[1;32m---> 30\u001B[0m \u001B[38;5;28;01mfrom\u001B[39;00m \u001B[38;5;21;01m.\u001B[39;00m \u001B[38;5;28;01mimport\u001B[39;00m compat\n\u001B[0;32m     31\u001B[0m \u001B[38;5;28;01mfrom\u001B[39;00m \u001B[38;5;21;01m.\u001B[39;00m \u001B[38;5;28;01mimport\u001B[39;00m config\n\u001B[0;32m     32\u001B[0m \u001B[38;5;28;01mfrom\u001B[39;00m \u001B[38;5;21;01m.\u001B[39;00m \u001B[38;5;28;01mimport\u001B[39;00m data\n",
      "File \u001B[1;32mD:\\Users\\Reaga\\anaconda3\\envs\\tf1\\lib\\site-packages\\tensorflow\\_api\\v2\\compat\\v1\\compat\\__init__.py:38\u001B[0m\n\u001B[0;32m     35\u001B[0m \u001B[38;5;28;01mimport\u001B[39;00m \u001B[38;5;21;01msys\u001B[39;00m \u001B[38;5;28;01mas\u001B[39;00m \u001B[38;5;21;01m_sys\u001B[39;00m\n\u001B[0;32m     37\u001B[0m \u001B[38;5;28;01mfrom\u001B[39;00m \u001B[38;5;21;01m.\u001B[39;00m \u001B[38;5;28;01mimport\u001B[39;00m v1\n\u001B[1;32m---> 38\u001B[0m \u001B[38;5;28;01mfrom\u001B[39;00m \u001B[38;5;21;01m.\u001B[39;00m \u001B[38;5;28;01mimport\u001B[39;00m v2\n\u001B[0;32m     39\u001B[0m \u001B[38;5;28;01mfrom\u001B[39;00m \u001B[38;5;21;01mtensorflow\u001B[39;00m\u001B[38;5;21;01m.\u001B[39;00m\u001B[38;5;21;01mpython\u001B[39;00m\u001B[38;5;21;01m.\u001B[39;00m\u001B[38;5;21;01mcompat\u001B[39;00m\u001B[38;5;21;01m.\u001B[39;00m\u001B[38;5;21;01mcompat\u001B[39;00m \u001B[38;5;28;01mimport\u001B[39;00m forward_compatibility_horizon\n\u001B[0;32m     40\u001B[0m \u001B[38;5;28;01mfrom\u001B[39;00m \u001B[38;5;21;01mtensorflow\u001B[39;00m\u001B[38;5;21;01m.\u001B[39;00m\u001B[38;5;21;01mpython\u001B[39;00m\u001B[38;5;21;01m.\u001B[39;00m\u001B[38;5;21;01mcompat\u001B[39;00m\u001B[38;5;21;01m.\u001B[39;00m\u001B[38;5;21;01mcompat\u001B[39;00m \u001B[38;5;28;01mimport\u001B[39;00m forward_compatible\n",
      "File \u001B[1;32mD:\\Users\\Reaga\\anaconda3\\envs\\tf1\\lib\\site-packages\\tensorflow\\_api\\v2\\compat\\v1\\compat\\v2\\__init__.py:28\u001B[0m\n\u001B[0;32m     25\u001B[0m \u001B[38;5;66;03m# pylint: disable=g-bad-import-order\u001B[39;00m\n\u001B[0;32m     27\u001B[0m \u001B[38;5;28;01mfrom\u001B[39;00m \u001B[38;5;21;01m.\u001B[39;00m \u001B[38;5;28;01mimport\u001B[39;00m compat\n\u001B[1;32m---> 28\u001B[0m \u001B[38;5;28;01mfrom\u001B[39;00m \u001B[38;5;21;01mtensorflow\u001B[39;00m\u001B[38;5;21;01m.\u001B[39;00m\u001B[38;5;21;01m_api\u001B[39;00m\u001B[38;5;21;01m.\u001B[39;00m\u001B[38;5;21;01mv2\u001B[39;00m\u001B[38;5;21;01m.\u001B[39;00m\u001B[38;5;21;01mcompat\u001B[39;00m\u001B[38;5;21;01m.\u001B[39;00m\u001B[38;5;21;01mv2\u001B[39;00m \u001B[38;5;28;01mimport\u001B[39;00m __internal__\n\u001B[0;32m     29\u001B[0m \u001B[38;5;28;01mfrom\u001B[39;00m \u001B[38;5;21;01mtensorflow\u001B[39;00m\u001B[38;5;21;01m.\u001B[39;00m\u001B[38;5;21;01m_api\u001B[39;00m\u001B[38;5;21;01m.\u001B[39;00m\u001B[38;5;21;01mv2\u001B[39;00m\u001B[38;5;21;01m.\u001B[39;00m\u001B[38;5;21;01mcompat\u001B[39;00m\u001B[38;5;21;01m.\u001B[39;00m\u001B[38;5;21;01mv2\u001B[39;00m \u001B[38;5;28;01mimport\u001B[39;00m __operators__\n\u001B[0;32m     30\u001B[0m \u001B[38;5;28;01mfrom\u001B[39;00m \u001B[38;5;21;01mtensorflow\u001B[39;00m\u001B[38;5;21;01m.\u001B[39;00m\u001B[38;5;21;01m_api\u001B[39;00m\u001B[38;5;21;01m.\u001B[39;00m\u001B[38;5;21;01mv2\u001B[39;00m\u001B[38;5;21;01m.\u001B[39;00m\u001B[38;5;21;01mcompat\u001B[39;00m\u001B[38;5;21;01m.\u001B[39;00m\u001B[38;5;21;01mv2\u001B[39;00m \u001B[38;5;28;01mimport\u001B[39;00m audio\n",
      "File \u001B[1;32mD:\\Users\\Reaga\\anaconda3\\envs\\tf1\\lib\\site-packages\\tensorflow\\_api\\v2\\compat\\v2\\__init__.py:33\u001B[0m\n\u001B[0;32m     31\u001B[0m \u001B[38;5;28;01mfrom\u001B[39;00m \u001B[38;5;21;01m.\u001B[39;00m \u001B[38;5;28;01mimport\u001B[39;00m autograph\n\u001B[0;32m     32\u001B[0m \u001B[38;5;28;01mfrom\u001B[39;00m \u001B[38;5;21;01m.\u001B[39;00m \u001B[38;5;28;01mimport\u001B[39;00m bitwise\n\u001B[1;32m---> 33\u001B[0m \u001B[38;5;28;01mfrom\u001B[39;00m \u001B[38;5;21;01m.\u001B[39;00m \u001B[38;5;28;01mimport\u001B[39;00m compat\n\u001B[0;32m     34\u001B[0m \u001B[38;5;28;01mfrom\u001B[39;00m \u001B[38;5;21;01m.\u001B[39;00m \u001B[38;5;28;01mimport\u001B[39;00m config\n\u001B[0;32m     35\u001B[0m \u001B[38;5;28;01mfrom\u001B[39;00m \u001B[38;5;21;01m.\u001B[39;00m \u001B[38;5;28;01mimport\u001B[39;00m data\n",
      "File \u001B[1;32mD:\\Users\\Reaga\\anaconda3\\envs\\tf1\\lib\\site-packages\\tensorflow\\_api\\v2\\compat\\v2\\compat\\__init__.py:38\u001B[0m\n\u001B[0;32m     35\u001B[0m \u001B[38;5;28;01mimport\u001B[39;00m \u001B[38;5;21;01msys\u001B[39;00m \u001B[38;5;28;01mas\u001B[39;00m \u001B[38;5;21;01m_sys\u001B[39;00m\n\u001B[0;32m     37\u001B[0m \u001B[38;5;28;01mfrom\u001B[39;00m \u001B[38;5;21;01m.\u001B[39;00m \u001B[38;5;28;01mimport\u001B[39;00m v1\n\u001B[1;32m---> 38\u001B[0m \u001B[38;5;28;01mfrom\u001B[39;00m \u001B[38;5;21;01m.\u001B[39;00m \u001B[38;5;28;01mimport\u001B[39;00m v2\n\u001B[0;32m     39\u001B[0m \u001B[38;5;28;01mfrom\u001B[39;00m \u001B[38;5;21;01mtensorflow\u001B[39;00m\u001B[38;5;21;01m.\u001B[39;00m\u001B[38;5;21;01mpython\u001B[39;00m\u001B[38;5;21;01m.\u001B[39;00m\u001B[38;5;21;01mcompat\u001B[39;00m\u001B[38;5;21;01m.\u001B[39;00m\u001B[38;5;21;01mcompat\u001B[39;00m \u001B[38;5;28;01mimport\u001B[39;00m forward_compatibility_horizon\n\u001B[0;32m     40\u001B[0m \u001B[38;5;28;01mfrom\u001B[39;00m \u001B[38;5;21;01mtensorflow\u001B[39;00m\u001B[38;5;21;01m.\u001B[39;00m\u001B[38;5;21;01mpython\u001B[39;00m\u001B[38;5;21;01m.\u001B[39;00m\u001B[38;5;21;01mcompat\u001B[39;00m\u001B[38;5;21;01m.\u001B[39;00m\u001B[38;5;21;01mcompat\u001B[39;00m \u001B[38;5;28;01mimport\u001B[39;00m forward_compatible\n",
      "File \u001B[1;32mD:\\Users\\Reaga\\anaconda3\\envs\\tf1\\lib\\site-packages\\tensorflow\\_api\\v2\\compat\\v2\\compat\\v2\\__init__.py:37\u001B[0m\n\u001B[0;32m     35\u001B[0m \u001B[38;5;28;01mfrom\u001B[39;00m \u001B[38;5;21;01mtensorflow\u001B[39;00m\u001B[38;5;21;01m.\u001B[39;00m\u001B[38;5;21;01m_api\u001B[39;00m\u001B[38;5;21;01m.\u001B[39;00m\u001B[38;5;21;01mv2\u001B[39;00m\u001B[38;5;21;01m.\u001B[39;00m\u001B[38;5;21;01mcompat\u001B[39;00m\u001B[38;5;21;01m.\u001B[39;00m\u001B[38;5;21;01mv2\u001B[39;00m \u001B[38;5;28;01mimport\u001B[39;00m data\n\u001B[0;32m     36\u001B[0m \u001B[38;5;28;01mfrom\u001B[39;00m \u001B[38;5;21;01mtensorflow\u001B[39;00m\u001B[38;5;21;01m.\u001B[39;00m\u001B[38;5;21;01m_api\u001B[39;00m\u001B[38;5;21;01m.\u001B[39;00m\u001B[38;5;21;01mv2\u001B[39;00m\u001B[38;5;21;01m.\u001B[39;00m\u001B[38;5;21;01mcompat\u001B[39;00m\u001B[38;5;21;01m.\u001B[39;00m\u001B[38;5;21;01mv2\u001B[39;00m \u001B[38;5;28;01mimport\u001B[39;00m debugging\n\u001B[1;32m---> 37\u001B[0m \u001B[38;5;28;01mfrom\u001B[39;00m \u001B[38;5;21;01mtensorflow\u001B[39;00m\u001B[38;5;21;01m.\u001B[39;00m\u001B[38;5;21;01m_api\u001B[39;00m\u001B[38;5;21;01m.\u001B[39;00m\u001B[38;5;21;01mv2\u001B[39;00m\u001B[38;5;21;01m.\u001B[39;00m\u001B[38;5;21;01mcompat\u001B[39;00m\u001B[38;5;21;01m.\u001B[39;00m\u001B[38;5;21;01mv2\u001B[39;00m \u001B[38;5;28;01mimport\u001B[39;00m distribute\n\u001B[0;32m     38\u001B[0m \u001B[38;5;28;01mfrom\u001B[39;00m \u001B[38;5;21;01mtensorflow\u001B[39;00m\u001B[38;5;21;01m.\u001B[39;00m\u001B[38;5;21;01m_api\u001B[39;00m\u001B[38;5;21;01m.\u001B[39;00m\u001B[38;5;21;01mv2\u001B[39;00m\u001B[38;5;21;01m.\u001B[39;00m\u001B[38;5;21;01mcompat\u001B[39;00m\u001B[38;5;21;01m.\u001B[39;00m\u001B[38;5;21;01mv2\u001B[39;00m \u001B[38;5;28;01mimport\u001B[39;00m dtypes\n\u001B[0;32m     39\u001B[0m \u001B[38;5;28;01mfrom\u001B[39;00m \u001B[38;5;21;01mtensorflow\u001B[39;00m\u001B[38;5;21;01m.\u001B[39;00m\u001B[38;5;21;01m_api\u001B[39;00m\u001B[38;5;21;01m.\u001B[39;00m\u001B[38;5;21;01mv2\u001B[39;00m\u001B[38;5;21;01m.\u001B[39;00m\u001B[38;5;21;01mcompat\u001B[39;00m\u001B[38;5;21;01m.\u001B[39;00m\u001B[38;5;21;01mv2\u001B[39;00m \u001B[38;5;28;01mimport\u001B[39;00m errors\n",
      "File \u001B[1;32mD:\\Users\\Reaga\\anaconda3\\envs\\tf1\\lib\\site-packages\\tensorflow\\_api\\v2\\compat\\v2\\distribute\\__init__.py:182\u001B[0m\n\u001B[0;32m    180\u001B[0m \u001B[38;5;28;01mfrom\u001B[39;00m \u001B[38;5;21;01m.\u001B[39;00m \u001B[38;5;28;01mimport\u001B[39;00m cluster_resolver\n\u001B[0;32m    181\u001B[0m \u001B[38;5;28;01mfrom\u001B[39;00m \u001B[38;5;21;01m.\u001B[39;00m \u001B[38;5;28;01mimport\u001B[39;00m coordinator\n\u001B[1;32m--> 182\u001B[0m \u001B[38;5;28;01mfrom\u001B[39;00m \u001B[38;5;21;01m.\u001B[39;00m \u001B[38;5;28;01mimport\u001B[39;00m experimental\n\u001B[0;32m    183\u001B[0m \u001B[38;5;28;01mfrom\u001B[39;00m \u001B[38;5;21;01mtensorflow\u001B[39;00m\u001B[38;5;21;01m.\u001B[39;00m\u001B[38;5;21;01mpython\u001B[39;00m\u001B[38;5;21;01m.\u001B[39;00m\u001B[38;5;21;01mdistribute\u001B[39;00m\u001B[38;5;21;01m.\u001B[39;00m\u001B[38;5;21;01mcollective_all_reduce_strategy\u001B[39;00m \u001B[38;5;28;01mimport\u001B[39;00m CollectiveAllReduceStrategy \u001B[38;5;28;01mas\u001B[39;00m MultiWorkerMirroredStrategy\n\u001B[0;32m    184\u001B[0m \u001B[38;5;28;01mfrom\u001B[39;00m \u001B[38;5;21;01mtensorflow\u001B[39;00m\u001B[38;5;21;01m.\u001B[39;00m\u001B[38;5;21;01mpython\u001B[39;00m\u001B[38;5;21;01m.\u001B[39;00m\u001B[38;5;21;01mdistribute\u001B[39;00m\u001B[38;5;21;01m.\u001B[39;00m\u001B[38;5;21;01mcross_device_ops\u001B[39;00m \u001B[38;5;28;01mimport\u001B[39;00m CrossDeviceOps\n",
      "File \u001B[1;32mD:\\Users\\Reaga\\anaconda3\\envs\\tf1\\lib\\site-packages\\tensorflow\\_api\\v2\\compat\\v2\\distribute\\experimental\\__init__.py:10\u001B[0m\n\u001B[0;32m      8\u001B[0m \u001B[38;5;28;01mfrom\u001B[39;00m \u001B[38;5;21;01m.\u001B[39;00m \u001B[38;5;28;01mimport\u001B[39;00m coordinator\n\u001B[0;32m      9\u001B[0m \u001B[38;5;28;01mfrom\u001B[39;00m \u001B[38;5;21;01m.\u001B[39;00m \u001B[38;5;28;01mimport\u001B[39;00m partitioners\n\u001B[1;32m---> 10\u001B[0m \u001B[38;5;28;01mfrom\u001B[39;00m \u001B[38;5;21;01m.\u001B[39;00m \u001B[38;5;28;01mimport\u001B[39;00m rpc\n\u001B[0;32m     11\u001B[0m \u001B[38;5;28;01mfrom\u001B[39;00m \u001B[38;5;21;01mtensorflow\u001B[39;00m\u001B[38;5;21;01m.\u001B[39;00m\u001B[38;5;21;01mpython\u001B[39;00m\u001B[38;5;21;01m.\u001B[39;00m\u001B[38;5;21;01mdistribute\u001B[39;00m\u001B[38;5;21;01m.\u001B[39;00m\u001B[38;5;21;01mcentral_storage_strategy\u001B[39;00m \u001B[38;5;28;01mimport\u001B[39;00m CentralStorageStrategy\n\u001B[0;32m     12\u001B[0m \u001B[38;5;28;01mfrom\u001B[39;00m \u001B[38;5;21;01mtensorflow\u001B[39;00m\u001B[38;5;21;01m.\u001B[39;00m\u001B[38;5;21;01mpython\u001B[39;00m\u001B[38;5;21;01m.\u001B[39;00m\u001B[38;5;21;01mdistribute\u001B[39;00m\u001B[38;5;21;01m.\u001B[39;00m\u001B[38;5;21;01mcollective_all_reduce_strategy\u001B[39;00m \u001B[38;5;28;01mimport\u001B[39;00m _CollectiveAllReduceStrategyExperimental \u001B[38;5;28;01mas\u001B[39;00m MultiWorkerMirroredStrategy\n",
      "File \u001B[1;32mD:\\Users\\Reaga\\anaconda3\\envs\\tf1\\lib\\site-packages\\tensorflow\\_api\\v2\\compat\\v2\\distribute\\experimental\\rpc\\__init__.py:8\u001B[0m\n\u001B[0;32m      3\u001B[0m \u001B[38;5;124;03m\"\"\"Public API for tf.distribute.experimental.rpc namespace.\u001B[39;00m\n\u001B[0;32m      4\u001B[0m \u001B[38;5;124;03m\"\"\"\u001B[39;00m\n\u001B[0;32m      6\u001B[0m \u001B[38;5;28;01mimport\u001B[39;00m \u001B[38;5;21;01msys\u001B[39;00m \u001B[38;5;28;01mas\u001B[39;00m \u001B[38;5;21;01m_sys\u001B[39;00m\n\u001B[1;32m----> 8\u001B[0m \u001B[38;5;28;01mfrom\u001B[39;00m \u001B[38;5;21;01mtensorflow\u001B[39;00m\u001B[38;5;21;01m.\u001B[39;00m\u001B[38;5;21;01mpython\u001B[39;00m\u001B[38;5;21;01m.\u001B[39;00m\u001B[38;5;21;01mdistribute\u001B[39;00m\u001B[38;5;21;01m.\u001B[39;00m\u001B[38;5;21;01mexperimental\u001B[39;00m\u001B[38;5;21;01m.\u001B[39;00m\u001B[38;5;21;01mrpc\u001B[39;00m\u001B[38;5;21;01m.\u001B[39;00m\u001B[38;5;21;01mrpc_ops\u001B[39;00m \u001B[38;5;28;01mimport\u001B[39;00m Client\n\u001B[0;32m      9\u001B[0m \u001B[38;5;28;01mfrom\u001B[39;00m \u001B[38;5;21;01mtensorflow\u001B[39;00m\u001B[38;5;21;01m.\u001B[39;00m\u001B[38;5;21;01mpython\u001B[39;00m\u001B[38;5;21;01m.\u001B[39;00m\u001B[38;5;21;01mdistribute\u001B[39;00m\u001B[38;5;21;01m.\u001B[39;00m\u001B[38;5;21;01mexperimental\u001B[39;00m\u001B[38;5;21;01m.\u001B[39;00m\u001B[38;5;21;01mrpc\u001B[39;00m\u001B[38;5;21;01m.\u001B[39;00m\u001B[38;5;21;01mrpc_ops\u001B[39;00m \u001B[38;5;28;01mimport\u001B[39;00m Server\n",
      "File \u001B[1;32mD:\\Users\\Reaga\\anaconda3\\envs\\tf1\\lib\\site-packages\\tensorflow\\python\\distribute\\experimental\\__init__.py:22\u001B[0m\n\u001B[0;32m     20\u001B[0m \u001B[38;5;28;01mfrom\u001B[39;00m \u001B[38;5;21;01mtensorflow\u001B[39;00m\u001B[38;5;21;01m.\u001B[39;00m\u001B[38;5;21;01mpython\u001B[39;00m\u001B[38;5;21;01m.\u001B[39;00m\u001B[38;5;21;01mdistribute\u001B[39;00m \u001B[38;5;28;01mimport\u001B[39;00m parameter_server_strategy\n\u001B[0;32m     21\u001B[0m \u001B[38;5;28;01mfrom\u001B[39;00m \u001B[38;5;21;01mtensorflow\u001B[39;00m\u001B[38;5;21;01m.\u001B[39;00m\u001B[38;5;21;01mpython\u001B[39;00m\u001B[38;5;21;01m.\u001B[39;00m\u001B[38;5;21;01mdistribute\u001B[39;00m \u001B[38;5;28;01mimport\u001B[39;00m tpu_strategy\n\u001B[1;32m---> 22\u001B[0m \u001B[38;5;28;01mfrom\u001B[39;00m \u001B[38;5;21;01mtensorflow\u001B[39;00m\u001B[38;5;21;01m.\u001B[39;00m\u001B[38;5;21;01mpython\u001B[39;00m\u001B[38;5;21;01m.\u001B[39;00m\u001B[38;5;21;01mdistribute\u001B[39;00m\u001B[38;5;21;01m.\u001B[39;00m\u001B[38;5;21;01mfailure_handling\u001B[39;00m \u001B[38;5;28;01mimport\u001B[39;00m failure_handling\n",
      "File \u001B[1;32mD:\\Users\\Reaga\\anaconda3\\envs\\tf1\\lib\\site-packages\\tensorflow\\python\\distribute\\failure_handling\\failure_handling.py:34\u001B[0m\n\u001B[0;32m     32\u001B[0m \u001B[38;5;28;01mfrom\u001B[39;00m \u001B[38;5;21;01mtensorflow\u001B[39;00m\u001B[38;5;21;01m.\u001B[39;00m\u001B[38;5;21;01mpython\u001B[39;00m\u001B[38;5;21;01m.\u001B[39;00m\u001B[38;5;21;01mcheckpoint\u001B[39;00m \u001B[38;5;28;01mimport\u001B[39;00m checkpoint_management\n\u001B[0;32m     33\u001B[0m \u001B[38;5;28;01mfrom\u001B[39;00m \u001B[38;5;21;01mtensorflow\u001B[39;00m\u001B[38;5;21;01m.\u001B[39;00m\u001B[38;5;21;01mpython\u001B[39;00m\u001B[38;5;21;01m.\u001B[39;00m\u001B[38;5;21;01mdistribute\u001B[39;00m \u001B[38;5;28;01mimport\u001B[39;00m multi_worker_util\n\u001B[1;32m---> 34\u001B[0m \u001B[38;5;28;01mfrom\u001B[39;00m \u001B[38;5;21;01mtensorflow\u001B[39;00m\u001B[38;5;21;01m.\u001B[39;00m\u001B[38;5;21;01mpython\u001B[39;00m\u001B[38;5;21;01m.\u001B[39;00m\u001B[38;5;21;01mdistribute\u001B[39;00m\u001B[38;5;21;01m.\u001B[39;00m\u001B[38;5;21;01mfailure_handling\u001B[39;00m \u001B[38;5;28;01mimport\u001B[39;00m gce_util\n\u001B[0;32m     35\u001B[0m \u001B[38;5;28;01mfrom\u001B[39;00m \u001B[38;5;21;01mtensorflow\u001B[39;00m\u001B[38;5;21;01m.\u001B[39;00m\u001B[38;5;21;01mpython\u001B[39;00m\u001B[38;5;21;01m.\u001B[39;00m\u001B[38;5;21;01meager\u001B[39;00m \u001B[38;5;28;01mimport\u001B[39;00m context\n\u001B[0;32m     36\u001B[0m \u001B[38;5;28;01mfrom\u001B[39;00m \u001B[38;5;21;01mtensorflow\u001B[39;00m\u001B[38;5;21;01m.\u001B[39;00m\u001B[38;5;21;01mpython\u001B[39;00m\u001B[38;5;21;01m.\u001B[39;00m\u001B[38;5;21;01meager\u001B[39;00m \u001B[38;5;28;01mimport\u001B[39;00m monitoring\n",
      "File \u001B[1;32mD:\\Users\\Reaga\\anaconda3\\envs\\tf1\\lib\\site-packages\\tensorflow\\python\\distribute\\failure_handling\\gce_util.py:20\u001B[0m\n\u001B[0;32m     17\u001B[0m \u001B[38;5;28;01mimport\u001B[39;00m \u001B[38;5;21;01mos\u001B[39;00m\n\u001B[0;32m     18\u001B[0m \u001B[38;5;28;01mimport\u001B[39;00m \u001B[38;5;21;01msys\u001B[39;00m\n\u001B[1;32m---> 20\u001B[0m \u001B[38;5;28;01mimport\u001B[39;00m \u001B[38;5;21;01mrequests\u001B[39;00m\n\u001B[0;32m     22\u001B[0m \u001B[38;5;28;01mfrom\u001B[39;00m \u001B[38;5;21;01msix\u001B[39;00m\u001B[38;5;21;01m.\u001B[39;00m\u001B[38;5;21;01mmoves\u001B[39;00m\u001B[38;5;21;01m.\u001B[39;00m\u001B[38;5;21;01murllib\u001B[39;00m \u001B[38;5;28;01mimport\u001B[39;00m request\n\u001B[0;32m     23\u001B[0m \u001B[38;5;28;01mfrom\u001B[39;00m \u001B[38;5;21;01mtensorflow\u001B[39;00m\u001B[38;5;21;01m.\u001B[39;00m\u001B[38;5;21;01mpython\u001B[39;00m\u001B[38;5;21;01m.\u001B[39;00m\u001B[38;5;21;01meager\u001B[39;00m \u001B[38;5;28;01mimport\u001B[39;00m context\n",
      "File \u001B[1;32mD:\\Users\\Reaga\\anaconda3\\envs\\tf1\\lib\\site-packages\\requests\\__init__.py:45\u001B[0m\n\u001B[0;32m     41\u001B[0m \u001B[38;5;28;01mimport\u001B[39;00m \u001B[38;5;21;01mwarnings\u001B[39;00m\n\u001B[0;32m     43\u001B[0m \u001B[38;5;28;01mimport\u001B[39;00m \u001B[38;5;21;01murllib3\u001B[39;00m\n\u001B[1;32m---> 45\u001B[0m \u001B[38;5;28;01mfrom\u001B[39;00m \u001B[38;5;21;01m.\u001B[39;00m\u001B[38;5;21;01mexceptions\u001B[39;00m \u001B[38;5;28;01mimport\u001B[39;00m RequestsDependencyWarning\n\u001B[0;32m     47\u001B[0m \u001B[38;5;28;01mtry\u001B[39;00m:\n\u001B[0;32m     48\u001B[0m     \u001B[38;5;28;01mfrom\u001B[39;00m \u001B[38;5;21;01mcharset_normalizer\u001B[39;00m \u001B[38;5;28;01mimport\u001B[39;00m __version__ \u001B[38;5;28;01mas\u001B[39;00m charset_normalizer_version\n",
      "File \u001B[1;32mD:\\Users\\Reaga\\anaconda3\\envs\\tf1\\lib\\site-packages\\requests\\exceptions.py:9\u001B[0m\n\u001B[0;32m      1\u001B[0m \u001B[38;5;124;03m\"\"\"\u001B[39;00m\n\u001B[0;32m      2\u001B[0m \u001B[38;5;124;03mrequests.exceptions\u001B[39;00m\n\u001B[0;32m      3\u001B[0m \u001B[38;5;124;03m~~~~~~~~~~~~~~~~~~~\u001B[39;00m\n\u001B[0;32m      4\u001B[0m \n\u001B[0;32m      5\u001B[0m \u001B[38;5;124;03mThis module contains the set of Requests' exceptions.\u001B[39;00m\n\u001B[0;32m      6\u001B[0m \u001B[38;5;124;03m\"\"\"\u001B[39;00m\n\u001B[0;32m      7\u001B[0m \u001B[38;5;28;01mfrom\u001B[39;00m \u001B[38;5;21;01murllib3\u001B[39;00m\u001B[38;5;21;01m.\u001B[39;00m\u001B[38;5;21;01mexceptions\u001B[39;00m \u001B[38;5;28;01mimport\u001B[39;00m HTTPError \u001B[38;5;28;01mas\u001B[39;00m BaseHTTPError\n\u001B[1;32m----> 9\u001B[0m \u001B[38;5;28;01mfrom\u001B[39;00m \u001B[38;5;21;01m.\u001B[39;00m\u001B[38;5;21;01mcompat\u001B[39;00m \u001B[38;5;28;01mimport\u001B[39;00m JSONDecodeError \u001B[38;5;28;01mas\u001B[39;00m CompatJSONDecodeError\n\u001B[0;32m     12\u001B[0m \u001B[38;5;28;01mclass\u001B[39;00m \u001B[38;5;21;01mRequestException\u001B[39;00m(\u001B[38;5;167;01mIOError\u001B[39;00m):\n\u001B[0;32m     13\u001B[0m     \u001B[38;5;124;03m\"\"\"There was an ambiguous exception that occurred while handling your\u001B[39;00m\n\u001B[0;32m     14\u001B[0m \u001B[38;5;124;03m    request.\u001B[39;00m\n\u001B[0;32m     15\u001B[0m \u001B[38;5;124;03m    \"\"\"\u001B[39;00m\n",
      "File \u001B[1;32mD:\\Users\\Reaga\\anaconda3\\envs\\tf1\\lib\\site-packages\\requests\\compat.py:13\u001B[0m\n\u001B[0;32m     11\u001B[0m     \u001B[38;5;28;01mimport\u001B[39;00m \u001B[38;5;21;01mchardet\u001B[39;00m\n\u001B[0;32m     12\u001B[0m \u001B[38;5;28;01mexcept\u001B[39;00m \u001B[38;5;167;01mImportError\u001B[39;00m:\n\u001B[1;32m---> 13\u001B[0m     \u001B[38;5;28;01mimport\u001B[39;00m \u001B[38;5;21;01mcharset_normalizer\u001B[39;00m \u001B[38;5;28;01mas\u001B[39;00m \u001B[38;5;21;01mchardet\u001B[39;00m\n\u001B[0;32m     15\u001B[0m \u001B[38;5;28;01mimport\u001B[39;00m \u001B[38;5;21;01msys\u001B[39;00m\n\u001B[0;32m     17\u001B[0m \u001B[38;5;66;03m# -------\u001B[39;00m\n\u001B[0;32m     18\u001B[0m \u001B[38;5;66;03m# Pythons\u001B[39;00m\n\u001B[0;32m     19\u001B[0m \u001B[38;5;66;03m# -------\u001B[39;00m\n\u001B[0;32m     20\u001B[0m \n\u001B[0;32m     21\u001B[0m \u001B[38;5;66;03m# Syntax sugar.\u001B[39;00m\n",
      "File \u001B[1;32mD:\\Users\\Reaga\\anaconda3\\envs\\tf1\\lib\\site-packages\\charset_normalizer\\__init__.py:23\u001B[0m\n\u001B[0;32m      1\u001B[0m \u001B[38;5;124;03m\"\"\"\u001B[39;00m\n\u001B[0;32m      2\u001B[0m \u001B[38;5;124;03mCharset-Normalizer\u001B[39;00m\n\u001B[0;32m      3\u001B[0m \u001B[38;5;124;03m~~~~~~~~~~~~~~\u001B[39;00m\n\u001B[1;32m   (...)\u001B[0m\n\u001B[0;32m     21\u001B[0m \u001B[38;5;124;03m:license: MIT, see LICENSE for more details.\u001B[39;00m\n\u001B[0;32m     22\u001B[0m \u001B[38;5;124;03m\"\"\"\u001B[39;00m\n\u001B[1;32m---> 23\u001B[0m \u001B[38;5;28;01mfrom\u001B[39;00m \u001B[38;5;21;01mcharset_normalizer\u001B[39;00m\u001B[38;5;21;01m.\u001B[39;00m\u001B[38;5;21;01mapi\u001B[39;00m \u001B[38;5;28;01mimport\u001B[39;00m from_fp, from_path, from_bytes, normalize\n\u001B[0;32m     24\u001B[0m \u001B[38;5;28;01mfrom\u001B[39;00m \u001B[38;5;21;01mcharset_normalizer\u001B[39;00m\u001B[38;5;21;01m.\u001B[39;00m\u001B[38;5;21;01mlegacy\u001B[39;00m \u001B[38;5;28;01mimport\u001B[39;00m detect\n\u001B[0;32m     25\u001B[0m \u001B[38;5;28;01mfrom\u001B[39;00m \u001B[38;5;21;01mcharset_normalizer\u001B[39;00m\u001B[38;5;21;01m.\u001B[39;00m\u001B[38;5;21;01mversion\u001B[39;00m \u001B[38;5;28;01mimport\u001B[39;00m __version__, VERSION\n",
      "File \u001B[1;32mD:\\Users\\Reaga\\anaconda3\\envs\\tf1\\lib\\site-packages\\charset_normalizer\\api.py:10\u001B[0m\n\u001B[0;32m      7\u001B[0m     PathLike \u001B[38;5;241m=\u001B[39m Union[\u001B[38;5;28mstr\u001B[39m, \u001B[38;5;124m'\u001B[39m\u001B[38;5;124mos.PathLike[str]\u001B[39m\u001B[38;5;124m'\u001B[39m]  \u001B[38;5;66;03m# type: ignore\u001B[39;00m\n\u001B[0;32m      9\u001B[0m \u001B[38;5;28;01mfrom\u001B[39;00m \u001B[38;5;21;01mcharset_normalizer\u001B[39;00m\u001B[38;5;21;01m.\u001B[39;00m\u001B[38;5;21;01mconstant\u001B[39;00m \u001B[38;5;28;01mimport\u001B[39;00m TOO_SMALL_SEQUENCE, TOO_BIG_SEQUENCE, IANA_SUPPORTED\n\u001B[1;32m---> 10\u001B[0m \u001B[38;5;28;01mfrom\u001B[39;00m \u001B[38;5;21;01mcharset_normalizer\u001B[39;00m\u001B[38;5;21;01m.\u001B[39;00m\u001B[38;5;21;01mmd\u001B[39;00m \u001B[38;5;28;01mimport\u001B[39;00m mess_ratio\n\u001B[0;32m     11\u001B[0m \u001B[38;5;28;01mfrom\u001B[39;00m \u001B[38;5;21;01mcharset_normalizer\u001B[39;00m\u001B[38;5;21;01m.\u001B[39;00m\u001B[38;5;21;01mmodels\u001B[39;00m \u001B[38;5;28;01mimport\u001B[39;00m CharsetMatches, CharsetMatch\n\u001B[0;32m     12\u001B[0m \u001B[38;5;28;01mfrom\u001B[39;00m \u001B[38;5;21;01mwarnings\u001B[39;00m \u001B[38;5;28;01mimport\u001B[39;00m warn\n",
      "\u001B[1;31mAttributeError\u001B[0m: partially initialized module 'charset_normalizer' has no attribute 'md__mypyc' (most likely due to a circular import)"
     ]
    }
   ],
   "source": [
    "import tensorflow\n",
    "tensorflow.__version__"
   ]
  }
 ],
 "metadata": {
  "kernelspec": {
   "display_name": "Python 3",
   "language": "python",
   "name": "python3"
  },
  "language_info": {
   "codemirror_mode": {
    "name": "ipython",
    "version": 3
   },
   "file_extension": ".py",
   "mimetype": "text/x-python",
   "name": "python",
   "nbconvert_exporter": "python",
   "pygments_lexer": "ipython3",
   "version": "3.8.5"
  },
  "widgets": {
   "state": {},
   "version": "1.1.2"
  }
 },
 "nbformat": 4,
 "nbformat_minor": 4
}
